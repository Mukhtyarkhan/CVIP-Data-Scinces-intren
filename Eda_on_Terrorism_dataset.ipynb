{
 "cells": [
  {
   "cell_type": "code",
   "execution_count": 1,
   "metadata": {},
   "outputs": [],
   "source": [
    "import pandas as pd\n",
    "import numpy as np\n",
    "import matplotlib.pyplot as plt\n",
    "import seaborn as sns"
   ]
  },
  {
   "cell_type": "code",
   "execution_count": 2,
   "metadata": {},
   "outputs": [
    {
     "name": "stderr",
     "output_type": "stream",
     "text": [
      "C:\\Users\\HP\\AppData\\Local\\Temp\\ipykernel_18928\\3931741744.py:6: DtypeWarning: Columns (4,6,31,33,61,62,63,76,79,90,92,94,96,114,115,121) have mixed types. Specify dtype option on import or set low_memory=False.\n",
      "  df=pd.read_csv(r\"D:\\CodersCave Internships\\EDA_Terrorism\\globalterrorismdb_0718dist.csv\",encoding=\"ISO-8859-1\")\n"
     ]
    },
    {
     "data": {
      "text/html": [
       "<div>\n",
       "<style scoped>\n",
       "    .dataframe tbody tr th:only-of-type {\n",
       "        vertical-align: middle;\n",
       "    }\n",
       "\n",
       "    .dataframe tbody tr th {\n",
       "        vertical-align: top;\n",
       "    }\n",
       "\n",
       "    .dataframe thead th {\n",
       "        text-align: right;\n",
       "    }\n",
       "</style>\n",
       "<table border=\"1\" class=\"dataframe\">\n",
       "  <thead>\n",
       "    <tr style=\"text-align: right;\">\n",
       "      <th></th>\n",
       "      <th>eventid</th>\n",
       "      <th>iyear</th>\n",
       "      <th>imonth</th>\n",
       "      <th>iday</th>\n",
       "      <th>approxdate</th>\n",
       "      <th>extended</th>\n",
       "      <th>resolution</th>\n",
       "      <th>country</th>\n",
       "      <th>country_txt</th>\n",
       "      <th>region</th>\n",
       "      <th>...</th>\n",
       "      <th>addnotes</th>\n",
       "      <th>scite1</th>\n",
       "      <th>scite2</th>\n",
       "      <th>scite3</th>\n",
       "      <th>dbsource</th>\n",
       "      <th>INT_LOG</th>\n",
       "      <th>INT_IDEO</th>\n",
       "      <th>INT_MISC</th>\n",
       "      <th>INT_ANY</th>\n",
       "      <th>related</th>\n",
       "    </tr>\n",
       "  </thead>\n",
       "  <tbody>\n",
       "    <tr>\n",
       "      <th>0</th>\n",
       "      <td>197000000001</td>\n",
       "      <td>1970</td>\n",
       "      <td>7</td>\n",
       "      <td>2</td>\n",
       "      <td>NaN</td>\n",
       "      <td>0</td>\n",
       "      <td>NaN</td>\n",
       "      <td>58</td>\n",
       "      <td>Dominican Republic</td>\n",
       "      <td>2</td>\n",
       "      <td>...</td>\n",
       "      <td>NaN</td>\n",
       "      <td>NaN</td>\n",
       "      <td>NaN</td>\n",
       "      <td>NaN</td>\n",
       "      <td>PGIS</td>\n",
       "      <td>0</td>\n",
       "      <td>0</td>\n",
       "      <td>0</td>\n",
       "      <td>0</td>\n",
       "      <td>NaN</td>\n",
       "    </tr>\n",
       "    <tr>\n",
       "      <th>1</th>\n",
       "      <td>197000000002</td>\n",
       "      <td>1970</td>\n",
       "      <td>0</td>\n",
       "      <td>0</td>\n",
       "      <td>NaN</td>\n",
       "      <td>0</td>\n",
       "      <td>NaN</td>\n",
       "      <td>130</td>\n",
       "      <td>Mexico</td>\n",
       "      <td>1</td>\n",
       "      <td>...</td>\n",
       "      <td>NaN</td>\n",
       "      <td>NaN</td>\n",
       "      <td>NaN</td>\n",
       "      <td>NaN</td>\n",
       "      <td>PGIS</td>\n",
       "      <td>0</td>\n",
       "      <td>1</td>\n",
       "      <td>1</td>\n",
       "      <td>1</td>\n",
       "      <td>NaN</td>\n",
       "    </tr>\n",
       "    <tr>\n",
       "      <th>2</th>\n",
       "      <td>197001000001</td>\n",
       "      <td>1970</td>\n",
       "      <td>1</td>\n",
       "      <td>0</td>\n",
       "      <td>NaN</td>\n",
       "      <td>0</td>\n",
       "      <td>NaN</td>\n",
       "      <td>160</td>\n",
       "      <td>Philippines</td>\n",
       "      <td>5</td>\n",
       "      <td>...</td>\n",
       "      <td>NaN</td>\n",
       "      <td>NaN</td>\n",
       "      <td>NaN</td>\n",
       "      <td>NaN</td>\n",
       "      <td>PGIS</td>\n",
       "      <td>-9</td>\n",
       "      <td>-9</td>\n",
       "      <td>1</td>\n",
       "      <td>1</td>\n",
       "      <td>NaN</td>\n",
       "    </tr>\n",
       "    <tr>\n",
       "      <th>3</th>\n",
       "      <td>197001000002</td>\n",
       "      <td>1970</td>\n",
       "      <td>1</td>\n",
       "      <td>0</td>\n",
       "      <td>NaN</td>\n",
       "      <td>0</td>\n",
       "      <td>NaN</td>\n",
       "      <td>78</td>\n",
       "      <td>Greece</td>\n",
       "      <td>8</td>\n",
       "      <td>...</td>\n",
       "      <td>NaN</td>\n",
       "      <td>NaN</td>\n",
       "      <td>NaN</td>\n",
       "      <td>NaN</td>\n",
       "      <td>PGIS</td>\n",
       "      <td>-9</td>\n",
       "      <td>-9</td>\n",
       "      <td>1</td>\n",
       "      <td>1</td>\n",
       "      <td>NaN</td>\n",
       "    </tr>\n",
       "    <tr>\n",
       "      <th>4</th>\n",
       "      <td>197001000003</td>\n",
       "      <td>1970</td>\n",
       "      <td>1</td>\n",
       "      <td>0</td>\n",
       "      <td>NaN</td>\n",
       "      <td>0</td>\n",
       "      <td>NaN</td>\n",
       "      <td>101</td>\n",
       "      <td>Japan</td>\n",
       "      <td>4</td>\n",
       "      <td>...</td>\n",
       "      <td>NaN</td>\n",
       "      <td>NaN</td>\n",
       "      <td>NaN</td>\n",
       "      <td>NaN</td>\n",
       "      <td>PGIS</td>\n",
       "      <td>-9</td>\n",
       "      <td>-9</td>\n",
       "      <td>1</td>\n",
       "      <td>1</td>\n",
       "      <td>NaN</td>\n",
       "    </tr>\n",
       "  </tbody>\n",
       "</table>\n",
       "<p>5 rows × 135 columns</p>\n",
       "</div>"
      ],
      "text/plain": [
       "        eventid  iyear  imonth  iday approxdate  extended resolution  country  \\\n",
       "0  197000000001   1970       7     2        NaN         0        NaN       58   \n",
       "1  197000000002   1970       0     0        NaN         0        NaN      130   \n",
       "2  197001000001   1970       1     0        NaN         0        NaN      160   \n",
       "3  197001000002   1970       1     0        NaN         0        NaN       78   \n",
       "4  197001000003   1970       1     0        NaN         0        NaN      101   \n",
       "\n",
       "          country_txt  region  ... addnotes scite1 scite2  scite3  dbsource  \\\n",
       "0  Dominican Republic       2  ...      NaN    NaN    NaN     NaN      PGIS   \n",
       "1              Mexico       1  ...      NaN    NaN    NaN     NaN      PGIS   \n",
       "2         Philippines       5  ...      NaN    NaN    NaN     NaN      PGIS   \n",
       "3              Greece       8  ...      NaN    NaN    NaN     NaN      PGIS   \n",
       "4               Japan       4  ...      NaN    NaN    NaN     NaN      PGIS   \n",
       "\n",
       "   INT_LOG  INT_IDEO INT_MISC INT_ANY  related  \n",
       "0        0         0        0       0      NaN  \n",
       "1        0         1        1       1      NaN  \n",
       "2       -9        -9        1       1      NaN  \n",
       "3       -9        -9        1       1      NaN  \n",
       "4       -9        -9        1       1      NaN  \n",
       "\n",
       "[5 rows x 135 columns]"
      ]
     },
     "execution_count": 2,
     "metadata": {},
     "output_type": "execute_result"
    }
   ],
   "source": [
    "import warnings\n",
    "\n",
    "# Suppress the FutureWarning related to is_categorical_dtype\n",
    "warnings.filterwarnings(\"ignore\", category=FutureWarning, module=\"seaborn\")\n",
    "\n",
    "df=pd.read_csv(r\"D:\\CodersCave Internships\\EDA_Terrorism\\globalterrorismdb_0718dist.csv\",encoding=\"ISO-8859-1\")\n",
    "df.head(5)"
   ]
  },
  {
   "cell_type": "code",
   "execution_count": 3,
   "metadata": {},
   "outputs": [
    {
     "data": {
      "text/plain": [
       "(181691, 135)"
      ]
     },
     "execution_count": 3,
     "metadata": {},
     "output_type": "execute_result"
    }
   ],
   "source": [
    "df.shape"
   ]
  },
  {
   "cell_type": "code",
   "execution_count": 4,
   "metadata": {},
   "outputs": [
    {
     "data": {
      "text/plain": [
       "Index(['eventid', 'iyear', 'imonth', 'iday', 'approxdate', 'extended',\n",
       "       'resolution', 'country', 'country_txt', 'region',\n",
       "       ...\n",
       "       'addnotes', 'scite1', 'scite2', 'scite3', 'dbsource', 'INT_LOG',\n",
       "       'INT_IDEO', 'INT_MISC', 'INT_ANY', 'related'],\n",
       "      dtype='object', length=135)"
      ]
     },
     "execution_count": 4,
     "metadata": {},
     "output_type": "execute_result"
    }
   ],
   "source": [
    "df.columns"
   ]
  },
  {
   "cell_type": "code",
   "execution_count": 5,
   "metadata": {},
   "outputs": [
    {
     "data": {
      "text/html": [
       "<div>\n",
       "<style scoped>\n",
       "    .dataframe tbody tr th:only-of-type {\n",
       "        vertical-align: middle;\n",
       "    }\n",
       "\n",
       "    .dataframe tbody tr th {\n",
       "        vertical-align: top;\n",
       "    }\n",
       "\n",
       "    .dataframe thead th {\n",
       "        text-align: right;\n",
       "    }\n",
       "</style>\n",
       "<table border=\"1\" class=\"dataframe\">\n",
       "  <thead>\n",
       "    <tr style=\"text-align: right;\">\n",
       "      <th></th>\n",
       "      <th>count</th>\n",
       "      <th>mean</th>\n",
       "      <th>std</th>\n",
       "      <th>min</th>\n",
       "      <th>25%</th>\n",
       "      <th>50%</th>\n",
       "      <th>75%</th>\n",
       "      <th>max</th>\n",
       "    </tr>\n",
       "  </thead>\n",
       "  <tbody>\n",
       "    <tr>\n",
       "      <th>eventid</th>\n",
       "      <td>181691.0</td>\n",
       "      <td>2.002705e+11</td>\n",
       "      <td>1.325957e+09</td>\n",
       "      <td>1.970000e+11</td>\n",
       "      <td>1.991021e+11</td>\n",
       "      <td>2.009022e+11</td>\n",
       "      <td>2.014081e+11</td>\n",
       "      <td>2.017123e+11</td>\n",
       "    </tr>\n",
       "    <tr>\n",
       "      <th>iyear</th>\n",
       "      <td>181691.0</td>\n",
       "      <td>2.002639e+03</td>\n",
       "      <td>1.325943e+01</td>\n",
       "      <td>1.970000e+03</td>\n",
       "      <td>1.991000e+03</td>\n",
       "      <td>2.009000e+03</td>\n",
       "      <td>2.014000e+03</td>\n",
       "      <td>2.017000e+03</td>\n",
       "    </tr>\n",
       "    <tr>\n",
       "      <th>imonth</th>\n",
       "      <td>181691.0</td>\n",
       "      <td>6.467277e+00</td>\n",
       "      <td>3.388303e+00</td>\n",
       "      <td>0.000000e+00</td>\n",
       "      <td>4.000000e+00</td>\n",
       "      <td>6.000000e+00</td>\n",
       "      <td>9.000000e+00</td>\n",
       "      <td>1.200000e+01</td>\n",
       "    </tr>\n",
       "    <tr>\n",
       "      <th>iday</th>\n",
       "      <td>181691.0</td>\n",
       "      <td>1.550564e+01</td>\n",
       "      <td>8.814045e+00</td>\n",
       "      <td>0.000000e+00</td>\n",
       "      <td>8.000000e+00</td>\n",
       "      <td>1.500000e+01</td>\n",
       "      <td>2.300000e+01</td>\n",
       "      <td>3.100000e+01</td>\n",
       "    </tr>\n",
       "    <tr>\n",
       "      <th>extended</th>\n",
       "      <td>181691.0</td>\n",
       "      <td>4.534622e-02</td>\n",
       "      <td>2.080629e-01</td>\n",
       "      <td>0.000000e+00</td>\n",
       "      <td>0.000000e+00</td>\n",
       "      <td>0.000000e+00</td>\n",
       "      <td>0.000000e+00</td>\n",
       "      <td>1.000000e+00</td>\n",
       "    </tr>\n",
       "    <tr>\n",
       "      <th>...</th>\n",
       "      <td>...</td>\n",
       "      <td>...</td>\n",
       "      <td>...</td>\n",
       "      <td>...</td>\n",
       "      <td>...</td>\n",
       "      <td>...</td>\n",
       "      <td>...</td>\n",
       "      <td>...</td>\n",
       "    </tr>\n",
       "    <tr>\n",
       "      <th>nreleased</th>\n",
       "      <td>10400.0</td>\n",
       "      <td>-2.901827e+01</td>\n",
       "      <td>6.572012e+01</td>\n",
       "      <td>-9.900000e+01</td>\n",
       "      <td>-9.900000e+01</td>\n",
       "      <td>0.000000e+00</td>\n",
       "      <td>1.000000e+00</td>\n",
       "      <td>2.769000e+03</td>\n",
       "    </tr>\n",
       "    <tr>\n",
       "      <th>INT_LOG</th>\n",
       "      <td>181691.0</td>\n",
       "      <td>-4.543731e+00</td>\n",
       "      <td>4.543547e+00</td>\n",
       "      <td>-9.000000e+00</td>\n",
       "      <td>-9.000000e+00</td>\n",
       "      <td>-9.000000e+00</td>\n",
       "      <td>0.000000e+00</td>\n",
       "      <td>1.000000e+00</td>\n",
       "    </tr>\n",
       "    <tr>\n",
       "      <th>INT_IDEO</th>\n",
       "      <td>181691.0</td>\n",
       "      <td>-4.464398e+00</td>\n",
       "      <td>4.637152e+00</td>\n",
       "      <td>-9.000000e+00</td>\n",
       "      <td>-9.000000e+00</td>\n",
       "      <td>-9.000000e+00</td>\n",
       "      <td>0.000000e+00</td>\n",
       "      <td>1.000000e+00</td>\n",
       "    </tr>\n",
       "    <tr>\n",
       "      <th>INT_MISC</th>\n",
       "      <td>181691.0</td>\n",
       "      <td>9.000996e-02</td>\n",
       "      <td>5.684573e-01</td>\n",
       "      <td>-9.000000e+00</td>\n",
       "      <td>0.000000e+00</td>\n",
       "      <td>0.000000e+00</td>\n",
       "      <td>0.000000e+00</td>\n",
       "      <td>1.000000e+00</td>\n",
       "    </tr>\n",
       "    <tr>\n",
       "      <th>INT_ANY</th>\n",
       "      <td>181691.0</td>\n",
       "      <td>-3.945952e+00</td>\n",
       "      <td>4.691325e+00</td>\n",
       "      <td>-9.000000e+00</td>\n",
       "      <td>-9.000000e+00</td>\n",
       "      <td>0.000000e+00</td>\n",
       "      <td>0.000000e+00</td>\n",
       "      <td>1.000000e+00</td>\n",
       "    </tr>\n",
       "  </tbody>\n",
       "</table>\n",
       "<p>77 rows × 8 columns</p>\n",
       "</div>"
      ],
      "text/plain": [
       "              count          mean           std           min           25%  \\\n",
       "eventid    181691.0  2.002705e+11  1.325957e+09  1.970000e+11  1.991021e+11   \n",
       "iyear      181691.0  2.002639e+03  1.325943e+01  1.970000e+03  1.991000e+03   \n",
       "imonth     181691.0  6.467277e+00  3.388303e+00  0.000000e+00  4.000000e+00   \n",
       "iday       181691.0  1.550564e+01  8.814045e+00  0.000000e+00  8.000000e+00   \n",
       "extended   181691.0  4.534622e-02  2.080629e-01  0.000000e+00  0.000000e+00   \n",
       "...             ...           ...           ...           ...           ...   \n",
       "nreleased   10400.0 -2.901827e+01  6.572012e+01 -9.900000e+01 -9.900000e+01   \n",
       "INT_LOG    181691.0 -4.543731e+00  4.543547e+00 -9.000000e+00 -9.000000e+00   \n",
       "INT_IDEO   181691.0 -4.464398e+00  4.637152e+00 -9.000000e+00 -9.000000e+00   \n",
       "INT_MISC   181691.0  9.000996e-02  5.684573e-01 -9.000000e+00  0.000000e+00   \n",
       "INT_ANY    181691.0 -3.945952e+00  4.691325e+00 -9.000000e+00 -9.000000e+00   \n",
       "\n",
       "                    50%           75%           max  \n",
       "eventid    2.009022e+11  2.014081e+11  2.017123e+11  \n",
       "iyear      2.009000e+03  2.014000e+03  2.017000e+03  \n",
       "imonth     6.000000e+00  9.000000e+00  1.200000e+01  \n",
       "iday       1.500000e+01  2.300000e+01  3.100000e+01  \n",
       "extended   0.000000e+00  0.000000e+00  1.000000e+00  \n",
       "...                 ...           ...           ...  \n",
       "nreleased  0.000000e+00  1.000000e+00  2.769000e+03  \n",
       "INT_LOG   -9.000000e+00  0.000000e+00  1.000000e+00  \n",
       "INT_IDEO  -9.000000e+00  0.000000e+00  1.000000e+00  \n",
       "INT_MISC   0.000000e+00  0.000000e+00  1.000000e+00  \n",
       "INT_ANY    0.000000e+00  0.000000e+00  1.000000e+00  \n",
       "\n",
       "[77 rows x 8 columns]"
      ]
     },
     "execution_count": 5,
     "metadata": {},
     "output_type": "execute_result"
    }
   ],
   "source": [
    "df.describe().T"
   ]
  },
  {
   "cell_type": "code",
   "execution_count": null,
   "metadata": {},
   "outputs": [],
   "source": []
  },
  {
   "cell_type": "code",
   "execution_count": 6,
   "metadata": {},
   "outputs": [
    {
     "data": {
      "text/html": [
       "<div>\n",
       "<style scoped>\n",
       "    .dataframe tbody tr th:only-of-type {\n",
       "        vertical-align: middle;\n",
       "    }\n",
       "\n",
       "    .dataframe tbody tr th {\n",
       "        vertical-align: top;\n",
       "    }\n",
       "\n",
       "    .dataframe thead th {\n",
       "        text-align: right;\n",
       "    }\n",
       "</style>\n",
       "<table border=\"1\" class=\"dataframe\">\n",
       "  <thead>\n",
       "    <tr style=\"text-align: right;\">\n",
       "      <th></th>\n",
       "      <th>count</th>\n",
       "      <th>unique</th>\n",
       "      <th>top</th>\n",
       "      <th>freq</th>\n",
       "    </tr>\n",
       "  </thead>\n",
       "  <tbody>\n",
       "    <tr>\n",
       "      <th>approxdate</th>\n",
       "      <td>9239</td>\n",
       "      <td>2244</td>\n",
       "      <td>September 18-24, 2016</td>\n",
       "      <td>101</td>\n",
       "    </tr>\n",
       "    <tr>\n",
       "      <th>resolution</th>\n",
       "      <td>2220</td>\n",
       "      <td>1859</td>\n",
       "      <td>8/4/1998</td>\n",
       "      <td>18</td>\n",
       "    </tr>\n",
       "    <tr>\n",
       "      <th>country_txt</th>\n",
       "      <td>181691</td>\n",
       "      <td>205</td>\n",
       "      <td>Iraq</td>\n",
       "      <td>24636</td>\n",
       "    </tr>\n",
       "    <tr>\n",
       "      <th>region_txt</th>\n",
       "      <td>181691</td>\n",
       "      <td>12</td>\n",
       "      <td>Middle East &amp; North Africa</td>\n",
       "      <td>50474</td>\n",
       "    </tr>\n",
       "    <tr>\n",
       "      <th>provstate</th>\n",
       "      <td>181270</td>\n",
       "      <td>2855</td>\n",
       "      <td>Baghdad</td>\n",
       "      <td>7645</td>\n",
       "    </tr>\n",
       "    <tr>\n",
       "      <th>city</th>\n",
       "      <td>181257</td>\n",
       "      <td>36674</td>\n",
       "      <td>Unknown</td>\n",
       "      <td>9775</td>\n",
       "    </tr>\n",
       "    <tr>\n",
       "      <th>location</th>\n",
       "      <td>55495</td>\n",
       "      <td>44109</td>\n",
       "      <td>The attack took place in Baghdad, Baghdad, Iraq.</td>\n",
       "      <td>142</td>\n",
       "    </tr>\n",
       "    <tr>\n",
       "      <th>summary</th>\n",
       "      <td>115562</td>\n",
       "      <td>112492</td>\n",
       "      <td>09/00/2016: Sometime between September 18, 201...</td>\n",
       "      <td>100</td>\n",
       "    </tr>\n",
       "    <tr>\n",
       "      <th>alternative_txt</th>\n",
       "      <td>29011</td>\n",
       "      <td>5</td>\n",
       "      <td>Insurgency/Guerilla Action</td>\n",
       "      <td>23410</td>\n",
       "    </tr>\n",
       "    <tr>\n",
       "      <th>attacktype1_txt</th>\n",
       "      <td>181691</td>\n",
       "      <td>9</td>\n",
       "      <td>Bombing/Explosion</td>\n",
       "      <td>88255</td>\n",
       "    </tr>\n",
       "    <tr>\n",
       "      <th>attacktype2_txt</th>\n",
       "      <td>6314</td>\n",
       "      <td>9</td>\n",
       "      <td>Armed Assault</td>\n",
       "      <td>3434</td>\n",
       "    </tr>\n",
       "    <tr>\n",
       "      <th>attacktype3_txt</th>\n",
       "      <td>428</td>\n",
       "      <td>8</td>\n",
       "      <td>Facility/Infrastructure Attack</td>\n",
       "      <td>229</td>\n",
       "    </tr>\n",
       "    <tr>\n",
       "      <th>targtype1_txt</th>\n",
       "      <td>181691</td>\n",
       "      <td>22</td>\n",
       "      <td>Private Citizens &amp; Property</td>\n",
       "      <td>43511</td>\n",
       "    </tr>\n",
       "    <tr>\n",
       "      <th>targsubtype1_txt</th>\n",
       "      <td>171318</td>\n",
       "      <td>112</td>\n",
       "      <td>Unnamed Civilian/Unspecified</td>\n",
       "      <td>11596</td>\n",
       "    </tr>\n",
       "    <tr>\n",
       "      <th>corp1</th>\n",
       "      <td>139141</td>\n",
       "      <td>33238</td>\n",
       "      <td>Unknown</td>\n",
       "      <td>16356</td>\n",
       "    </tr>\n",
       "    <tr>\n",
       "      <th>target1</th>\n",
       "      <td>181055</td>\n",
       "      <td>86006</td>\n",
       "      <td>Civilians</td>\n",
       "      <td>6461</td>\n",
       "    </tr>\n",
       "    <tr>\n",
       "      <th>natlty1_txt</th>\n",
       "      <td>180132</td>\n",
       "      <td>215</td>\n",
       "      <td>Iraq</td>\n",
       "      <td>24113</td>\n",
       "    </tr>\n",
       "    <tr>\n",
       "      <th>targtype2_txt</th>\n",
       "      <td>11144</td>\n",
       "      <td>22</td>\n",
       "      <td>Private Citizens &amp; Property</td>\n",
       "      <td>5585</td>\n",
       "    </tr>\n",
       "    <tr>\n",
       "      <th>targsubtype2_txt</th>\n",
       "      <td>10685</td>\n",
       "      <td>107</td>\n",
       "      <td>Unnamed Civilian/Unspecified</td>\n",
       "      <td>3482</td>\n",
       "    </tr>\n",
       "    <tr>\n",
       "      <th>corp2</th>\n",
       "      <td>10117</td>\n",
       "      <td>2691</td>\n",
       "      <td>Not Applicable</td>\n",
       "      <td>3309</td>\n",
       "    </tr>\n",
       "    <tr>\n",
       "      <th>target2</th>\n",
       "      <td>11020</td>\n",
       "      <td>5043</td>\n",
       "      <td>Civilians</td>\n",
       "      <td>2376</td>\n",
       "    </tr>\n",
       "    <tr>\n",
       "      <th>natlty2_txt</th>\n",
       "      <td>10828</td>\n",
       "      <td>158</td>\n",
       "      <td>Iraq</td>\n",
       "      <td>1786</td>\n",
       "    </tr>\n",
       "    <tr>\n",
       "      <th>targtype3_txt</th>\n",
       "      <td>1176</td>\n",
       "      <td>20</td>\n",
       "      <td>Private Citizens &amp; Property</td>\n",
       "      <td>554</td>\n",
       "    </tr>\n",
       "    <tr>\n",
       "      <th>targsubtype3_txt</th>\n",
       "      <td>1097</td>\n",
       "      <td>92</td>\n",
       "      <td>Unnamed Civilian/Unspecified</td>\n",
       "      <td>325</td>\n",
       "    </tr>\n",
       "    <tr>\n",
       "      <th>corp3</th>\n",
       "      <td>1026</td>\n",
       "      <td>422</td>\n",
       "      <td>Not Applicable</td>\n",
       "      <td>312</td>\n",
       "    </tr>\n",
       "    <tr>\n",
       "      <th>target3</th>\n",
       "      <td>1175</td>\n",
       "      <td>720</td>\n",
       "      <td>Civilians</td>\n",
       "      <td>200</td>\n",
       "    </tr>\n",
       "    <tr>\n",
       "      <th>natlty3_txt</th>\n",
       "      <td>1147</td>\n",
       "      <td>110</td>\n",
       "      <td>Iraq</td>\n",
       "      <td>139</td>\n",
       "    </tr>\n",
       "    <tr>\n",
       "      <th>gname</th>\n",
       "      <td>181691</td>\n",
       "      <td>3537</td>\n",
       "      <td>Unknown</td>\n",
       "      <td>82782</td>\n",
       "    </tr>\n",
       "    <tr>\n",
       "      <th>gsubname</th>\n",
       "      <td>5890</td>\n",
       "      <td>1183</td>\n",
       "      <td>Militants</td>\n",
       "      <td>480</td>\n",
       "    </tr>\n",
       "    <tr>\n",
       "      <th>gname2</th>\n",
       "      <td>2013</td>\n",
       "      <td>433</td>\n",
       "      <td>Al-Nusrah Front</td>\n",
       "      <td>56</td>\n",
       "    </tr>\n",
       "    <tr>\n",
       "      <th>gsubname2</th>\n",
       "      <td>160</td>\n",
       "      <td>60</td>\n",
       "      <td>The Family</td>\n",
       "      <td>20</td>\n",
       "    </tr>\n",
       "    <tr>\n",
       "      <th>gname3</th>\n",
       "      <td>324</td>\n",
       "      <td>116</td>\n",
       "      <td>Free Syrian Army</td>\n",
       "      <td>19</td>\n",
       "    </tr>\n",
       "    <tr>\n",
       "      <th>gsubname3</th>\n",
       "      <td>20</td>\n",
       "      <td>14</td>\n",
       "      <td>Jaysh al-Nukhba; Al-Izzah</td>\n",
       "      <td>5</td>\n",
       "    </tr>\n",
       "    <tr>\n",
       "      <th>motive</th>\n",
       "      <td>50561</td>\n",
       "      <td>14490</td>\n",
       "      <td>Unknown</td>\n",
       "      <td>14889</td>\n",
       "    </tr>\n",
       "    <tr>\n",
       "      <th>claimmode_txt</th>\n",
       "      <td>19083</td>\n",
       "      <td>10</td>\n",
       "      <td>Personal claim</td>\n",
       "      <td>5207</td>\n",
       "    </tr>\n",
       "    <tr>\n",
       "      <th>claimmode2_txt</th>\n",
       "      <td>616</td>\n",
       "      <td>9</td>\n",
       "      <td>Unknown</td>\n",
       "      <td>208</td>\n",
       "    </tr>\n",
       "    <tr>\n",
       "      <th>claimmode3_txt</th>\n",
       "      <td>133</td>\n",
       "      <td>8</td>\n",
       "      <td>Unknown</td>\n",
       "      <td>32</td>\n",
       "    </tr>\n",
       "    <tr>\n",
       "      <th>weaptype1_txt</th>\n",
       "      <td>181691</td>\n",
       "      <td>12</td>\n",
       "      <td>Explosives</td>\n",
       "      <td>92426</td>\n",
       "    </tr>\n",
       "    <tr>\n",
       "      <th>weapsubtype1_txt</th>\n",
       "      <td>160923</td>\n",
       "      <td>30</td>\n",
       "      <td>Unknown Explosive Type</td>\n",
       "      <td>44980</td>\n",
       "    </tr>\n",
       "    <tr>\n",
       "      <th>weaptype2_txt</th>\n",
       "      <td>13127</td>\n",
       "      <td>11</td>\n",
       "      <td>Firearms</td>\n",
       "      <td>5283</td>\n",
       "    </tr>\n",
       "    <tr>\n",
       "      <th>weapsubtype2_txt</th>\n",
       "      <td>11542</td>\n",
       "      <td>28</td>\n",
       "      <td>Unknown Gun Type</td>\n",
       "      <td>2654</td>\n",
       "    </tr>\n",
       "    <tr>\n",
       "      <th>weaptype3_txt</th>\n",
       "      <td>1863</td>\n",
       "      <td>10</td>\n",
       "      <td>Firearms</td>\n",
       "      <td>815</td>\n",
       "    </tr>\n",
       "    <tr>\n",
       "      <th>weapsubtype3_txt</th>\n",
       "      <td>1693</td>\n",
       "      <td>22</td>\n",
       "      <td>Unknown Gun Type</td>\n",
       "      <td>310</td>\n",
       "    </tr>\n",
       "    <tr>\n",
       "      <th>weaptype4_txt</th>\n",
       "      <td>73</td>\n",
       "      <td>5</td>\n",
       "      <td>Firearms</td>\n",
       "      <td>29</td>\n",
       "    </tr>\n",
       "    <tr>\n",
       "      <th>weapsubtype4_txt</th>\n",
       "      <td>70</td>\n",
       "      <td>16</td>\n",
       "      <td>Automatic or Semi-Automatic Rifle</td>\n",
       "      <td>16</td>\n",
       "    </tr>\n",
       "    <tr>\n",
       "      <th>weapdetail</th>\n",
       "      <td>114021</td>\n",
       "      <td>19148</td>\n",
       "      <td>Explosive</td>\n",
       "      <td>20925</td>\n",
       "    </tr>\n",
       "    <tr>\n",
       "      <th>propextent_txt</th>\n",
       "      <td>64065</td>\n",
       "      <td>4</td>\n",
       "      <td>Minor (likely &lt; $1 million)</td>\n",
       "      <td>43304</td>\n",
       "    </tr>\n",
       "    <tr>\n",
       "      <th>propcomment</th>\n",
       "      <td>57959</td>\n",
       "      <td>19157</td>\n",
       "      <td>It is unknown if any property was damaged in t...</td>\n",
       "      <td>6966</td>\n",
       "    </tr>\n",
       "    <tr>\n",
       "      <th>divert</th>\n",
       "      <td>324</td>\n",
       "      <td>143</td>\n",
       "      <td>Unknown</td>\n",
       "      <td>27</td>\n",
       "    </tr>\n",
       "    <tr>\n",
       "      <th>kidhijcountry</th>\n",
       "      <td>3305</td>\n",
       "      <td>217</td>\n",
       "      <td>Colombia</td>\n",
       "      <td>687</td>\n",
       "    </tr>\n",
       "    <tr>\n",
       "      <th>ransomnote</th>\n",
       "      <td>514</td>\n",
       "      <td>387</td>\n",
       "      <td>0</td>\n",
       "      <td>36</td>\n",
       "    </tr>\n",
       "    <tr>\n",
       "      <th>hostkidoutcome_txt</th>\n",
       "      <td>10991</td>\n",
       "      <td>7</td>\n",
       "      <td>Unknown</td>\n",
       "      <td>3606</td>\n",
       "    </tr>\n",
       "    <tr>\n",
       "      <th>addnotes</th>\n",
       "      <td>28289</td>\n",
       "      <td>15429</td>\n",
       "      <td>Casualty numbers for this incident conflict ac...</td>\n",
       "      <td>1607</td>\n",
       "    </tr>\n",
       "    <tr>\n",
       "      <th>scite1</th>\n",
       "      <td>115500</td>\n",
       "      <td>83988</td>\n",
       "      <td>Committee on Government Operations United Stat...</td>\n",
       "      <td>205</td>\n",
       "    </tr>\n",
       "    <tr>\n",
       "      <th>scite2</th>\n",
       "      <td>76933</td>\n",
       "      <td>62263</td>\n",
       "      <td>Christopher Hewitt, \"Political Violence and Te...</td>\n",
       "      <td>134</td>\n",
       "    </tr>\n",
       "    <tr>\n",
       "      <th>scite3</th>\n",
       "      <td>43516</td>\n",
       "      <td>36090</td>\n",
       "      <td>Christopher Hewitt, \"Political Violence and Te...</td>\n",
       "      <td>139</td>\n",
       "    </tr>\n",
       "    <tr>\n",
       "      <th>dbsource</th>\n",
       "      <td>181691</td>\n",
       "      <td>26</td>\n",
       "      <td>START Primary Collection</td>\n",
       "      <td>78002</td>\n",
       "    </tr>\n",
       "    <tr>\n",
       "      <th>related</th>\n",
       "      <td>25038</td>\n",
       "      <td>14306</td>\n",
       "      <td>201612010023, 201612010024, 201612010025, 2016...</td>\n",
       "      <td>80</td>\n",
       "    </tr>\n",
       "  </tbody>\n",
       "</table>\n",
       "</div>"
      ],
      "text/plain": [
       "                     count  unique  \\\n",
       "approxdate            9239    2244   \n",
       "resolution            2220    1859   \n",
       "country_txt         181691     205   \n",
       "region_txt          181691      12   \n",
       "provstate           181270    2855   \n",
       "city                181257   36674   \n",
       "location             55495   44109   \n",
       "summary             115562  112492   \n",
       "alternative_txt      29011       5   \n",
       "attacktype1_txt     181691       9   \n",
       "attacktype2_txt       6314       9   \n",
       "attacktype3_txt        428       8   \n",
       "targtype1_txt       181691      22   \n",
       "targsubtype1_txt    171318     112   \n",
       "corp1               139141   33238   \n",
       "target1             181055   86006   \n",
       "natlty1_txt         180132     215   \n",
       "targtype2_txt        11144      22   \n",
       "targsubtype2_txt     10685     107   \n",
       "corp2                10117    2691   \n",
       "target2              11020    5043   \n",
       "natlty2_txt          10828     158   \n",
       "targtype3_txt         1176      20   \n",
       "targsubtype3_txt      1097      92   \n",
       "corp3                 1026     422   \n",
       "target3               1175     720   \n",
       "natlty3_txt           1147     110   \n",
       "gname               181691    3537   \n",
       "gsubname              5890    1183   \n",
       "gname2                2013     433   \n",
       "gsubname2              160      60   \n",
       "gname3                 324     116   \n",
       "gsubname3               20      14   \n",
       "motive               50561   14490   \n",
       "claimmode_txt        19083      10   \n",
       "claimmode2_txt         616       9   \n",
       "claimmode3_txt         133       8   \n",
       "weaptype1_txt       181691      12   \n",
       "weapsubtype1_txt    160923      30   \n",
       "weaptype2_txt        13127      11   \n",
       "weapsubtype2_txt     11542      28   \n",
       "weaptype3_txt         1863      10   \n",
       "weapsubtype3_txt      1693      22   \n",
       "weaptype4_txt           73       5   \n",
       "weapsubtype4_txt        70      16   \n",
       "weapdetail          114021   19148   \n",
       "propextent_txt       64065       4   \n",
       "propcomment          57959   19157   \n",
       "divert                 324     143   \n",
       "kidhijcountry         3305     217   \n",
       "ransomnote             514     387   \n",
       "hostkidoutcome_txt   10991       7   \n",
       "addnotes             28289   15429   \n",
       "scite1              115500   83988   \n",
       "scite2               76933   62263   \n",
       "scite3               43516   36090   \n",
       "dbsource            181691      26   \n",
       "related              25038   14306   \n",
       "\n",
       "                                                                  top   freq  \n",
       "approxdate                                      September 18-24, 2016    101  \n",
       "resolution                                                   8/4/1998     18  \n",
       "country_txt                                                      Iraq  24636  \n",
       "region_txt                                 Middle East & North Africa  50474  \n",
       "provstate                                                     Baghdad   7645  \n",
       "city                                                          Unknown   9775  \n",
       "location             The attack took place in Baghdad, Baghdad, Iraq.    142  \n",
       "summary             09/00/2016: Sometime between September 18, 201...    100  \n",
       "alternative_txt                            Insurgency/Guerilla Action  23410  \n",
       "attacktype1_txt                                     Bombing/Explosion  88255  \n",
       "attacktype2_txt                                         Armed Assault   3434  \n",
       "attacktype3_txt                        Facility/Infrastructure Attack    229  \n",
       "targtype1_txt                             Private Citizens & Property  43511  \n",
       "targsubtype1_txt                         Unnamed Civilian/Unspecified  11596  \n",
       "corp1                                                         Unknown  16356  \n",
       "target1                                                     Civilians   6461  \n",
       "natlty1_txt                                                      Iraq  24113  \n",
       "targtype2_txt                             Private Citizens & Property   5585  \n",
       "targsubtype2_txt                         Unnamed Civilian/Unspecified   3482  \n",
       "corp2                                                  Not Applicable   3309  \n",
       "target2                                                     Civilians   2376  \n",
       "natlty2_txt                                                      Iraq   1786  \n",
       "targtype3_txt                             Private Citizens & Property    554  \n",
       "targsubtype3_txt                         Unnamed Civilian/Unspecified    325  \n",
       "corp3                                                  Not Applicable    312  \n",
       "target3                                                     Civilians    200  \n",
       "natlty3_txt                                                      Iraq    139  \n",
       "gname                                                         Unknown  82782  \n",
       "gsubname                                                    Militants    480  \n",
       "gname2                                                Al-Nusrah Front     56  \n",
       "gsubname2                                                  The Family     20  \n",
       "gname3                                               Free Syrian Army     19  \n",
       "gsubname3                                   Jaysh al-Nukhba; Al-Izzah      5  \n",
       "motive                                                        Unknown  14889  \n",
       "claimmode_txt                                          Personal claim   5207  \n",
       "claimmode2_txt                                                Unknown    208  \n",
       "claimmode3_txt                                                Unknown     32  \n",
       "weaptype1_txt                                              Explosives  92426  \n",
       "weapsubtype1_txt                               Unknown Explosive Type  44980  \n",
       "weaptype2_txt                                                Firearms   5283  \n",
       "weapsubtype2_txt                                     Unknown Gun Type   2654  \n",
       "weaptype3_txt                                                Firearms    815  \n",
       "weapsubtype3_txt                                     Unknown Gun Type    310  \n",
       "weaptype4_txt                                                Firearms     29  \n",
       "weapsubtype4_txt                    Automatic or Semi-Automatic Rifle     16  \n",
       "weapdetail                                                  Explosive  20925  \n",
       "propextent_txt                            Minor (likely < $1 million)  43304  \n",
       "propcomment         It is unknown if any property was damaged in t...   6966  \n",
       "divert                                                        Unknown     27  \n",
       "kidhijcountry                                                Colombia    687  \n",
       "ransomnote                                                          0     36  \n",
       "hostkidoutcome_txt                                            Unknown   3606  \n",
       "addnotes            Casualty numbers for this incident conflict ac...   1607  \n",
       "scite1              Committee on Government Operations United Stat...    205  \n",
       "scite2              Christopher Hewitt, \"Political Violence and Te...    134  \n",
       "scite3              Christopher Hewitt, \"Political Violence and Te...    139  \n",
       "dbsource                                     START Primary Collection  78002  \n",
       "related             201612010023, 201612010024, 201612010025, 2016...     80  "
      ]
     },
     "execution_count": 6,
     "metadata": {},
     "output_type": "execute_result"
    }
   ],
   "source": [
    "df.describe(include=\"O\").T"
   ]
  },
  {
   "cell_type": "markdown",
   "metadata": {},
   "source": [
    "# Data Cleaning and wrangling"
   ]
  },
  {
   "cell_type": "markdown",
   "metadata": {},
   "source": [
    "##### I haven’t explored all the columns in the dataset, but I’ve selected a few for a deeper understanding and analysis."
   ]
  },
  {
   "cell_type": "code",
   "execution_count": 7,
   "metadata": {},
   "outputs": [],
   "source": [
    "df.rename(columns={'iyear':'Year','imonth':'Month','iday':'Day','country_txt':'Country','provstate':'state',\n",
    "                     'region_txt':'Region','attacktype1_txt':'AttackType','target1':'Target','nkill':'Killed',\n",
    "                     'nwound': 'Wounded','summary':'Summary','gname':'Group','targtype1_txt':'Target_type',\n",
    "                     'weaptype1_txt':'Weapon_type','motive':'Motive'},inplace=True)"
   ]
  },
  {
   "cell_type": "code",
   "execution_count": 8,
   "metadata": {},
   "outputs": [],
   "source": [
    "df = df[['eventid','Year','Month','Day','Country','Region','state','city','latitude','longitude','AttackType','Killed','Wounded',\n",
    "            'Target','Summary','Group','Target_type','Weapon_type','Motive','success']]"
   ]
  },
  {
   "cell_type": "code",
   "execution_count": 9,
   "metadata": {},
   "outputs": [
    {
     "data": {
      "text/html": [
       "<div>\n",
       "<style scoped>\n",
       "    .dataframe tbody tr th:only-of-type {\n",
       "        vertical-align: middle;\n",
       "    }\n",
       "\n",
       "    .dataframe tbody tr th {\n",
       "        vertical-align: top;\n",
       "    }\n",
       "\n",
       "    .dataframe thead th {\n",
       "        text-align: right;\n",
       "    }\n",
       "</style>\n",
       "<table border=\"1\" class=\"dataframe\">\n",
       "  <thead>\n",
       "    <tr style=\"text-align: right;\">\n",
       "      <th></th>\n",
       "      <th>eventid</th>\n",
       "      <th>Year</th>\n",
       "      <th>Month</th>\n",
       "      <th>Day</th>\n",
       "      <th>Country</th>\n",
       "      <th>Region</th>\n",
       "      <th>state</th>\n",
       "      <th>city</th>\n",
       "      <th>latitude</th>\n",
       "      <th>longitude</th>\n",
       "      <th>AttackType</th>\n",
       "      <th>Killed</th>\n",
       "      <th>Wounded</th>\n",
       "      <th>Target</th>\n",
       "      <th>Summary</th>\n",
       "      <th>Group</th>\n",
       "      <th>Target_type</th>\n",
       "      <th>Weapon_type</th>\n",
       "      <th>Motive</th>\n",
       "      <th>success</th>\n",
       "    </tr>\n",
       "  </thead>\n",
       "  <tbody>\n",
       "    <tr>\n",
       "      <th>0</th>\n",
       "      <td>197000000001</td>\n",
       "      <td>1970</td>\n",
       "      <td>7</td>\n",
       "      <td>2</td>\n",
       "      <td>Dominican Republic</td>\n",
       "      <td>Central America &amp; Caribbean</td>\n",
       "      <td>NaN</td>\n",
       "      <td>Santo Domingo</td>\n",
       "      <td>18.456792</td>\n",
       "      <td>-69.951164</td>\n",
       "      <td>Assassination</td>\n",
       "      <td>1.0</td>\n",
       "      <td>0.0</td>\n",
       "      <td>Julio Guzman</td>\n",
       "      <td>NaN</td>\n",
       "      <td>MANO-D</td>\n",
       "      <td>Private Citizens &amp; Property</td>\n",
       "      <td>Unknown</td>\n",
       "      <td>NaN</td>\n",
       "      <td>1</td>\n",
       "    </tr>\n",
       "    <tr>\n",
       "      <th>1</th>\n",
       "      <td>197000000002</td>\n",
       "      <td>1970</td>\n",
       "      <td>0</td>\n",
       "      <td>0</td>\n",
       "      <td>Mexico</td>\n",
       "      <td>North America</td>\n",
       "      <td>Federal</td>\n",
       "      <td>Mexico city</td>\n",
       "      <td>19.371887</td>\n",
       "      <td>-99.086624</td>\n",
       "      <td>Hostage Taking (Kidnapping)</td>\n",
       "      <td>0.0</td>\n",
       "      <td>0.0</td>\n",
       "      <td>Nadine Chaval, daughter</td>\n",
       "      <td>NaN</td>\n",
       "      <td>23rd of September Communist League</td>\n",
       "      <td>Government (Diplomatic)</td>\n",
       "      <td>Unknown</td>\n",
       "      <td>NaN</td>\n",
       "      <td>1</td>\n",
       "    </tr>\n",
       "    <tr>\n",
       "      <th>2</th>\n",
       "      <td>197001000001</td>\n",
       "      <td>1970</td>\n",
       "      <td>1</td>\n",
       "      <td>0</td>\n",
       "      <td>Philippines</td>\n",
       "      <td>Southeast Asia</td>\n",
       "      <td>Tarlac</td>\n",
       "      <td>Unknown</td>\n",
       "      <td>15.478598</td>\n",
       "      <td>120.599741</td>\n",
       "      <td>Assassination</td>\n",
       "      <td>1.0</td>\n",
       "      <td>0.0</td>\n",
       "      <td>Employee</td>\n",
       "      <td>NaN</td>\n",
       "      <td>Unknown</td>\n",
       "      <td>Journalists &amp; Media</td>\n",
       "      <td>Unknown</td>\n",
       "      <td>NaN</td>\n",
       "      <td>1</td>\n",
       "    </tr>\n",
       "    <tr>\n",
       "      <th>3</th>\n",
       "      <td>197001000002</td>\n",
       "      <td>1970</td>\n",
       "      <td>1</td>\n",
       "      <td>0</td>\n",
       "      <td>Greece</td>\n",
       "      <td>Western Europe</td>\n",
       "      <td>Attica</td>\n",
       "      <td>Athens</td>\n",
       "      <td>37.997490</td>\n",
       "      <td>23.762728</td>\n",
       "      <td>Bombing/Explosion</td>\n",
       "      <td>NaN</td>\n",
       "      <td>NaN</td>\n",
       "      <td>U.S. Embassy</td>\n",
       "      <td>NaN</td>\n",
       "      <td>Unknown</td>\n",
       "      <td>Government (Diplomatic)</td>\n",
       "      <td>Explosives</td>\n",
       "      <td>NaN</td>\n",
       "      <td>1</td>\n",
       "    </tr>\n",
       "    <tr>\n",
       "      <th>4</th>\n",
       "      <td>197001000003</td>\n",
       "      <td>1970</td>\n",
       "      <td>1</td>\n",
       "      <td>0</td>\n",
       "      <td>Japan</td>\n",
       "      <td>East Asia</td>\n",
       "      <td>Fukouka</td>\n",
       "      <td>Fukouka</td>\n",
       "      <td>33.580412</td>\n",
       "      <td>130.396361</td>\n",
       "      <td>Facility/Infrastructure Attack</td>\n",
       "      <td>NaN</td>\n",
       "      <td>NaN</td>\n",
       "      <td>U.S. Consulate</td>\n",
       "      <td>NaN</td>\n",
       "      <td>Unknown</td>\n",
       "      <td>Government (Diplomatic)</td>\n",
       "      <td>Incendiary</td>\n",
       "      <td>NaN</td>\n",
       "      <td>1</td>\n",
       "    </tr>\n",
       "  </tbody>\n",
       "</table>\n",
       "</div>"
      ],
      "text/plain": [
       "        eventid  Year  Month  Day             Country  \\\n",
       "0  197000000001  1970      7    2  Dominican Republic   \n",
       "1  197000000002  1970      0    0              Mexico   \n",
       "2  197001000001  1970      1    0         Philippines   \n",
       "3  197001000002  1970      1    0              Greece   \n",
       "4  197001000003  1970      1    0               Japan   \n",
       "\n",
       "                        Region    state           city   latitude   longitude  \\\n",
       "0  Central America & Caribbean      NaN  Santo Domingo  18.456792  -69.951164   \n",
       "1                North America  Federal    Mexico city  19.371887  -99.086624   \n",
       "2               Southeast Asia   Tarlac        Unknown  15.478598  120.599741   \n",
       "3               Western Europe   Attica         Athens  37.997490   23.762728   \n",
       "4                    East Asia  Fukouka        Fukouka  33.580412  130.396361   \n",
       "\n",
       "                       AttackType  Killed  Wounded                   Target  \\\n",
       "0                   Assassination     1.0      0.0             Julio Guzman   \n",
       "1     Hostage Taking (Kidnapping)     0.0      0.0  Nadine Chaval, daughter   \n",
       "2                   Assassination     1.0      0.0                 Employee   \n",
       "3               Bombing/Explosion     NaN      NaN             U.S. Embassy   \n",
       "4  Facility/Infrastructure Attack     NaN      NaN           U.S. Consulate   \n",
       "\n",
       "  Summary                               Group                  Target_type  \\\n",
       "0     NaN                              MANO-D  Private Citizens & Property   \n",
       "1     NaN  23rd of September Communist League      Government (Diplomatic)   \n",
       "2     NaN                             Unknown          Journalists & Media   \n",
       "3     NaN                             Unknown      Government (Diplomatic)   \n",
       "4     NaN                             Unknown      Government (Diplomatic)   \n",
       "\n",
       "  Weapon_type Motive  success  \n",
       "0     Unknown    NaN        1  \n",
       "1     Unknown    NaN        1  \n",
       "2     Unknown    NaN        1  \n",
       "3  Explosives    NaN        1  \n",
       "4  Incendiary    NaN        1  "
      ]
     },
     "execution_count": 9,
     "metadata": {},
     "output_type": "execute_result"
    }
   ],
   "source": [
    "df.head(5)"
   ]
  },
  {
   "cell_type": "code",
   "execution_count": 10,
   "metadata": {},
   "outputs": [
    {
     "data": {
      "text/plain": [
       "103018     0.0\n",
       "33458      0.0\n",
       "11355      NaN\n",
       "33405      0.0\n",
       "139366     0.0\n",
       "84194     19.0\n",
       "83458      2.0\n",
       "50094      0.0\n",
       "171749     NaN\n",
       "149946     2.0\n",
       "152900     1.0\n",
       "55467      0.0\n",
       "92242      0.0\n",
       "62070      0.0\n",
       "110232     0.0\n",
       "Name: Killed, dtype: float64"
      ]
     },
     "execution_count": 10,
     "metadata": {},
     "output_type": "execute_result"
    }
   ],
   "source": [
    "df['Killed'].sample(15)"
   ]
  },
  {
   "cell_type": "code",
   "execution_count": 11,
   "metadata": {},
   "outputs": [
    {
     "data": {
      "text/plain": [
       "139036    0.0\n",
       "11223     NaN\n",
       "141428    6.0\n",
       "60892     3.0\n",
       "123051    0.0\n",
       "84153     0.0\n",
       "67164     0.0\n",
       "45138     0.0\n",
       "169958    0.0\n",
       "2587      0.0\n",
       "41695     0.0\n",
       "79756     0.0\n",
       "111210    3.0\n",
       "81002     3.0\n",
       "16696     0.0\n",
       "Name: Wounded, dtype: float64"
      ]
     },
     "execution_count": 11,
     "metadata": {},
     "output_type": "execute_result"
    }
   ],
   "source": [
    "df['Wounded'].sample(15)"
   ]
  },
  {
   "cell_type": "markdown",
   "metadata": {},
   "source": [
    "#### Create a new column 'Casualtities' to represent the total casualties in the dataset.\n",
    "#### This is calculated by adding the 'Killed' and 'Wounded' columns together."
   ]
  },
  {
   "cell_type": "code",
   "execution_count": 12,
   "metadata": {},
   "outputs": [],
   "source": [
    "df['Casualtities'] = df['Killed'] + df['Wounded']"
   ]
  },
  {
   "cell_type": "code",
   "execution_count": 13,
   "metadata": {},
   "outputs": [
    {
     "data": {
      "text/plain": [
       "eventid              0\n",
       "Year                 0\n",
       "Month                0\n",
       "Day                  0\n",
       "Country              0\n",
       "Region               0\n",
       "state              421\n",
       "city               434\n",
       "latitude          4556\n",
       "longitude         4557\n",
       "AttackType           0\n",
       "Killed           10313\n",
       "Wounded          16311\n",
       "Target             636\n",
       "Summary          66129\n",
       "Group                0\n",
       "Target_type          0\n",
       "Weapon_type          0\n",
       "Motive          131130\n",
       "success              0\n",
       "Casualtities     16874\n",
       "dtype: int64"
      ]
     },
     "execution_count": 13,
     "metadata": {},
     "output_type": "execute_result"
    }
   ],
   "source": [
    "# Check for missing values in the DataFrame using the isnull() method.\n",
    "# Then, calculate the sum of missing values for each column and display the results.\n",
    "df.isnull().sum()"
   ]
  },
  {
   "cell_type": "code",
   "execution_count": 14,
   "metadata": {},
   "outputs": [],
   "source": [
    "# Drop rows with missing values in the 'state' and 'city' columns from the DataFrame.\n",
    "# This is done to remove records where the geographical location information is incomplete,\n",
    "# as these columns are essential for geographical analysis. Rows with missing values\n",
    "# in these columns are no longer needed for our analysis.\n",
    "\n",
    "df.dropna(subset=['state', 'city'], inplace=True)"
   ]
  },
  {
   "cell_type": "code",
   "execution_count": 15,
   "metadata": {},
   "outputs": [],
   "source": [
    "columns_to_fill = ['latitude', 'longitude', 'Killed', 'Wounded', 'Casualtities']\n",
    "df[columns_to_fill] = df[columns_to_fill].fillna(df[columns_to_fill].mean())"
   ]
  },
  {
   "cell_type": "code",
   "execution_count": 16,
   "metadata": {},
   "outputs": [
    {
     "data": {
      "text/plain": [
       "eventid              0\n",
       "Year                 0\n",
       "Month                0\n",
       "Day                  0\n",
       "Country              0\n",
       "Region               0\n",
       "state                0\n",
       "city                 0\n",
       "latitude             0\n",
       "longitude            0\n",
       "AttackType           0\n",
       "Killed               0\n",
       "Wounded              0\n",
       "Target             629\n",
       "Summary          65720\n",
       "Group                0\n",
       "Target_type          0\n",
       "Weapon_type          0\n",
       "Motive          130717\n",
       "success              0\n",
       "Casualtities         0\n",
       "dtype: int64"
      ]
     },
     "execution_count": 16,
     "metadata": {},
     "output_type": "execute_result"
    }
   ],
   "source": [
    "df.isnull().sum()"
   ]
  },
  {
   "cell_type": "code",
   "execution_count": 17,
   "metadata": {},
   "outputs": [],
   "source": [
    "df['Target'].fillna(df['Target'].mode().iloc[0], inplace=True)\n",
    "df['Summary'].fillna(df['Summary'].mode().iloc[0], inplace=True)\n",
    "df['Motive'].fillna('Unknown', inplace=True)\n",
    "\n"
   ]
  },
  {
   "cell_type": "code",
   "execution_count": 35,
   "metadata": {},
   "outputs": [
    {
     "data": {
      "text/plain": [
       "eventid         0\n",
       "Year            0\n",
       "Month           0\n",
       "Day             0\n",
       "Country         0\n",
       "Region          0\n",
       "state           0\n",
       "city            0\n",
       "latitude        0\n",
       "longitude       0\n",
       "AttackType      0\n",
       "Killed          0\n",
       "Wounded         0\n",
       "Target          0\n",
       "Summary         0\n",
       "Group           0\n",
       "Target_type     0\n",
       "Weapon_type     0\n",
       "Motive          0\n",
       "success         0\n",
       "Casualtities    0\n",
       "dtype: int64"
      ]
     },
     "execution_count": 35,
     "metadata": {},
     "output_type": "execute_result"
    }
   ],
   "source": [
    "df.isnull().sum()"
   ]
  },
  {
   "cell_type": "code",
   "execution_count": 40,
   "metadata": {},
   "outputs": [
    {
     "name": "stdout",
     "output_type": "stream",
     "text": [
      "Country with the most attacks: Iraq\n",
      "City with the most attacks: Baghdad\n",
      "Region with the most attacks: Middle East & North Africa\n",
      "Year with the most attacks: 2014\n",
      "Month with the most attacks: 5\n",
      "Group with the most attacks: Taliban\n",
      "Most Attack Types: Bombing/Explosion\n"
     ]
    }
   ],
   "source": [
    "print(\"Country with the most attacks:\",df['Country'].value_counts().idxmax())\n",
    "print(\"City with the most attacks:\",df['city'].value_counts().index[1])\n",
    "print(\"Region with the most attacks:\",df['Region'].value_counts().idxmax())\n",
    "print(\"Year with the most attacks:\",df['Year'].value_counts().idxmax())\n",
    "print(\"Month with the most attacks:\",df['Month'].value_counts().idxmax())\n",
    "print(\"Group with the most attacks:\",df['Group'].value_counts().index[1])\n",
    "print(\"Most Attack Types:\",df['AttackType'].value_counts().idxmax())"
   ]
  },
  {
   "cell_type": "code",
   "execution_count": 18,
   "metadata": {},
   "outputs": [
    {
     "data": {
      "image/png": "[encoded data removed]",
      "text/plain": [
       "<Figure size 1000x600 with 1 Axes>"
      ]
     },
     "metadata": {},
     "output_type": "display_data"
    }
   ],
   "source": [
    "# Group the data by 'Year' and count the number of attacks each year\n",
    "yearly_data = df.groupby('Year').size()\n",
    "\n",
    "# Create a line plot of the number of attacks per year\n",
    "plt.figure(figsize=(10,6))\n",
    "plt.plot(yearly_data.index, yearly_data.values, marker='o', linestyle='-')\n",
    "\n",
    "plt.xlabel('Year')\n",
    "plt.ylabel('Number of Attacks')\n",
    "plt.title('Number of Terrorist Attacks Per Year')\n",
    "plt.xticks(range(min(yearly_data.index), max(yearly_data.index)+1, 2), rotation=45)\n",
    "plt.grid(True)\n",
    "plt.show()"
   ]
  },
  {
   "cell_type": "code",
   "execution_count": 19,
   "metadata": {},
   "outputs": [
    {
     "name": "stdout",
     "output_type": "stream",
     "text": [
      "      Year                   Country  Number of Attacks\n",
      "0     1970                 Argentina                 21\n",
      "1     1970                 Australia                  1\n",
      "2     1970                   Belgium                  1\n",
      "3     1970                   Bolivia                  1\n",
      "4     1970                    Brazil                  6\n",
      "...    ...                       ...                ...\n",
      "3738  2017                   Vietnam                  2\n",
      "3739  2017  West Bank and Gaza Strip                 83\n",
      "3740  2017                     Yemen                226\n",
      "3741  2017                    Zambia                  2\n",
      "3742  2017                  Zimbabwe                  3\n",
      "\n",
      "[3743 rows x 3 columns]\n"
     ]
    }
   ],
   "source": [
    "# Group the data by 'Year' and 'Country' and count the number of attacks\n",
    "attacks_per_year_country = df.groupby(['Year', 'Country']).size()\n",
    "\n",
    "# Convert the groupby object to a DataFrame\n",
    "df_attacks = attacks_per_year_country.reset_index()\n",
    "df_attacks.columns = ['Year', 'Country', 'Number of Attacks']\n",
    "\n",
    "# Print the DataFrame\n",
    "print(df_attacks)\n"
   ]
  },
  {
   "cell_type": "code",
   "execution_count": 20,
   "metadata": {},
   "outputs": [],
   "source": [
    "# Get the top N countries with the most attacks\n",
    "N = 15\n",
    "top_countries = df['Country'].value_counts().index[:N]\n",
    "\n",
    "# Filter data for these countries\n",
    "df_top_countries = df_attacks[df_attacks['Country'].isin(top_countries)]"
   ]
  },
  {
   "cell_type": "code",
   "execution_count": 21,
   "metadata": {},
   "outputs": [
    {
     "data": {
      "application/vnd.plotly.v1+json": {
       "config": {
        "plotlyServerURL": "https://plot.ly"
       },
       "data": [
        {
         "mode": "lines+markers",
         "name": "Iraq",
         "type": "scatter",
         "x": [
          1975,
          1976,
          1979,
          1980,
          1981,
          1982,
          1983,
          1984,
          1987,
          1988,
          1989,
          1991,
          1992,
          1994,
          1995,
          1996,
          1997,
          1998,
          1999,
          2000,
          2001,
          2002,
          2003,
          2004,
          2005,
          2006,
          2007,
          2008,
          2009,
          2010,
          2011,
          2012,
          2013,
          2014,
          2015,
          2016,
          2017
         ],
         "y": [
          1,
          3,
          2,
          6,
          3,
          5,
          3,
          2,
          3,
          4,
          4,
          3,
          35,
          18,
          17,
          12,
          21,
          7,
          12,
          10,
          3,
          6,
          102,
          323,
          617,
          838,
          1047,
          1105,
          1126,
          1177,
          1306,
          1437,
          2852,
          3933,
          2751,
          3360,
          2466
         ]
        },
        {
         "mode": "lines+markers",
         "name": "Pakistan",
         "type": "scatter",
         "x": [
          1970,
          1974,
          1975,
          1976,
          1978,
          1979,
          1980,
          1981,
          1982,
          1983,
          1984,
          1985,
          1986,
          1987,
          1988,
          1989,
          1990,
          1991,
          1992,
          1994,
          1995,
          1996,
          1997,
          1998,
          1999,
          2000,
          2001,
          2002,
          2003,
          2004,
          2005,
          2006,
          2007,
          2008,
          2009,
          2010,
          2011,
          2012,
          2013,
          2014,
          2015,
          2016,
          2017
         ],
         "y": [
          1,
          2,
          2,
          3,
          2,
          7,
          1,
          4,
          4,
          9,
          3,
          2,
          24,
          60,
          44,
          45,
          87,
          150,
          85,
          154,
          666,
          180,
          206,
          37,
          39,
          49,
          53,
          46,
          29,
          67,
          77,
          164,
          260,
          565,
          663,
          712,
          1009,
          1654,
          2215,
          2151,
          1243,
          864,
          719
         ]
        },
        {
         "mode": "lines+markers",
         "name": "Afghanistan",
         "type": "scatter",
         "x": [
          1973,
          1979,
          1987,
          1988,
          1989,
          1990,
          1991,
          1992,
          1994,
          1995,
          1996,
          1997,
          1998,
          1999,
          2000,
          2001,
          2002,
          2003,
          2004,
          2005,
          2006,
          2007,
          2008,
          2009,
          2010,
          2011,
          2012,
          2013,
          2014,
          2015,
          2016,
          2017
         ],
         "y": [
          1,
          3,
          1,
          11,
          10,
          2,
          30,
          36,
          9,
          6,
          4,
          1,
          1,
          9,
          14,
          14,
          38,
          100,
          88,
          155,
          282,
          341,
          377,
          448,
          510,
          406,
          1469,
          1443,
          1824,
          1928,
          1617,
          1414
         ]
        },
        {
         "mode": "lines+markers",
         "name": "India",
         "type": "scatter",
         "x": [
          1972,
          1975,
          1976,
          1977,
          1979,
          1980,
          1981,
          1982,
          1983,
          1984,
          1985,
          1986,
          1987,
          1988,
          1989,
          1990,
          1991,
          1992,
          1994,
          1995,
          1996,
          1997,
          1998,
          1999,
          2000,
          2001,
          2002,
          2003,
          2004,
          2005,
          2006,
          2007,
          2008,
          2009,
          2010,
          2011,
          2012,
          2013,
          2014,
          2015,
          2016,
          2017
         ],
         "y": [
          1,
          1,
          1,
          1,
          20,
          10,
          16,
          13,
          47,
          159,
          39,
          96,
          166,
          358,
          324,
          349,
          339,
          237,
          107,
          179,
          213,
          193,
          61,
          112,
          180,
          234,
          184,
          196,
          108,
          146,
          167,
          149,
          534,
          672,
          663,
          645,
          611,
          694,
          860,
          884,
          1025,
          966
         ]
        },
        {
         "mode": "lines+markers",
         "name": "Colombia",
         "type": "scatter",
         "x": [
          1970,
          1972,
          1973,
          1975,
          1976,
          1977,
          1978,
          1979,
          1980,
          1981,
          1982,
          1983,
          1984,
          1985,
          1986,
          1987,
          1988,
          1989,
          1990,
          1991,
          1992,
          1994,
          1995,
          1996,
          1997,
          1998,
          1999,
          2000,
          2001,
          2002,
          2003,
          2004,
          2005,
          2006,
          2007,
          2008,
          2009,
          2010,
          2011,
          2012,
          2013,
          2014,
          2015,
          2016,
          2017
         ],
         "y": [
          1,
          2,
          6,
          10,
          22,
          80,
          158,
          140,
          141,
          172,
          222,
          234,
          237,
          382,
          307,
          337,
          427,
          492,
          349,
          420,
          523,
          201,
          123,
          409,
          598,
          94,
          116,
          137,
          207,
          150,
          98,
          37,
          42,
          43,
          30,
          133,
          139,
          136,
          94,
          115,
          149,
          231,
          136,
          109,
          117
         ]
        },
        {
         "mode": "lines+markers",
         "name": "Philippines",
         "type": "scatter",
         "x": [
          1970,
          1971,
          1972,
          1974,
          1975,
          1976,
          1977,
          1978,
          1979,
          1980,
          1981,
          1982,
          1983,
          1984,
          1985,
          1986,
          1987,
          1988,
          1989,
          1990,
          1991,
          1992,
          1994,
          1995,
          1996,
          1997,
          1998,
          1999,
          2000,
          2001,
          2002,
          2003,
          2004,
          2005,
          2006,
          2007,
          2008,
          2009,
          2010,
          2011,
          2012,
          2013,
          2014,
          2015,
          2016,
          2017
         ],
         "y": [
          10,
          4,
          7,
          1,
          4,
          10,
          2,
          36,
          50,
          60,
          31,
          38,
          16,
          43,
          124,
          80,
          160,
          210,
          156,
          320,
          162,
          162,
          72,
          63,
          61,
          57,
          18,
          31,
          132,
          50,
          48,
          107,
          32,
          25,
          58,
          65,
          276,
          229,
          205,
          151,
          249,
          651,
          597,
          721,
          632,
          692
         ]
        },
        {
         "mode": "lines+markers",
         "name": "Peru",
         "type": "scatter",
         "x": [
          1973,
          1974,
          1975,
          1977,
          1978,
          1979,
          1980,
          1981,
          1982,
          1983,
          1984,
          1985,
          1986,
          1987,
          1988,
          1989,
          1990,
          1991,
          1992,
          1994,
          1995,
          1996,
          1997,
          1998,
          1999,
          2000,
          2001,
          2002,
          2003,
          2004,
          2005,
          2006,
          2007,
          2008,
          2009,
          2012,
          2013,
          2014,
          2015,
          2016,
          2017
         ],
         "y": [
          3,
          3,
          2,
          4,
          4,
          3,
          64,
          149,
          350,
          536,
          592,
          352,
          568,
          627,
          355,
          630,
          495,
          658,
          383,
          91,
          44,
          42,
          58,
          5,
          5,
          3,
          3,
          2,
          1,
          3,
          2,
          1,
          4,
          1,
          4,
          6,
          10,
          12,
          10,
          3,
          8
         ]
        },
        {
         "mode": "lines+markers",
         "name": "El Salvador",
         "type": "scatter",
         "x": [
          1972,
          1973,
          1974,
          1975,
          1976,
          1977,
          1978,
          1979,
          1980,
          1981,
          1982,
          1983,
          1984,
          1985,
          1986,
          1987,
          1988,
          1989,
          1990,
          1991,
          1992,
          1994,
          1995,
          1996,
          1997
         ],
         "y": [
          2,
          1,
          3,
          3,
          13,
          6,
          91,
          325,
          710,
          660,
          534,
          369,
          272,
          433,
          175,
          234,
          367,
          355,
          184,
          498,
          29,
          21,
          9,
          7,
          2
         ]
        },
        {
         "mode": "lines+markers",
         "name": "United Kingdom",
         "type": "scatter",
         "x": [
          1970,
          1971,
          1972,
          1973,
          1974,
          1975,
          1976,
          1977,
          1978,
          1979,
          1980,
          1981,
          1982,
          1983,
          1984,
          1985,
          1986,
          1987,
          1988,
          1989,
          1990,
          1991,
          1992,
          1994,
          1995,
          1996,
          1997,
          1998,
          1999,
          2000,
          2001,
          2002,
          2003,
          2004,
          2005,
          2006,
          2007,
          2008,
          2009,
          2010,
          2011,
          2012,
          2013,
          2014,
          2015,
          2016,
          2017
         ],
         "y": [
          12,
          81,
          292,
          189,
          203,
          194,
          194,
          140,
          100,
          239,
          134,
          142,
          95,
          177,
          145,
          67,
          95,
          117,
          181,
          163,
          147,
          262,
          274,
          256,
          22,
          36,
          78,
          63,
          76,
          61,
          94,
          21,
          23,
          5,
          29,
          6,
          20,
          39,
          23,
          57,
          47,
          55,
          137,
          103,
          114,
          105,
          122
         ]
        },
        {
         "mode": "lines+markers",
         "name": "Turkey",
         "type": "scatter",
         "x": [
          1970,
          1971,
          1972,
          1974,
          1975,
          1976,
          1977,
          1978,
          1979,
          1980,
          1981,
          1982,
          1983,
          1984,
          1985,
          1986,
          1987,
          1988,
          1989,
          1990,
          1991,
          1992,
          1994,
          1995,
          1996,
          1997,
          1998,
          1999,
          2000,
          2001,
          2002,
          2003,
          2004,
          2005,
          2006,
          2007,
          2008,
          2009,
          2010,
          2011,
          2012,
          2013,
          2014,
          2015,
          2016,
          2017
         ],
         "y": [
          12,
          35,
          9,
          1,
          10,
          35,
          189,
          52,
          141,
          95,
          8,
          5,
          5,
          19,
          2,
          7,
          43,
          42,
          114,
          195,
          293,
          514,
          300,
          133,
          54,
          44,
          23,
          109,
          35,
          19,
          5,
          19,
          27,
          41,
          43,
          29,
          32,
          13,
          20,
          51,
          188,
          42,
          94,
          422,
          542,
          181
         ]
        },
        {
         "mode": "lines+markers",
         "name": "Somalia",
         "type": "scatter",
         "x": [
          1975,
          1980,
          1981,
          1983,
          1984,
          1987,
          1988,
          1989,
          1990,
          1991,
          1992,
          1994,
          1995,
          1996,
          1997,
          1998,
          1999,
          2000,
          2001,
          2002,
          2003,
          2004,
          2005,
          2006,
          2007,
          2008,
          2009,
          2010,
          2011,
          2012,
          2013,
          2014,
          2015,
          2016,
          2017
         ],
         "y": [
          1,
          1,
          8,
          1,
          2,
          1,
          2,
          2,
          12,
          8,
          21,
          57,
          13,
          16,
          19,
          1,
          4,
          9,
          5,
          3,
          1,
          1,
          6,
          10,
          156,
          172,
          122,
          130,
          185,
          325,
          342,
          872,
          418,
          602,
          614
         ]
        },
        {
         "mode": "lines+markers",
         "name": "Nigeria",
         "type": "scatter",
         "x": [
          1976,
          1980,
          1983,
          1988,
          1991,
          1992,
          1994,
          1995,
          1996,
          1997,
          1998,
          1999,
          2000,
          2001,
          2002,
          2003,
          2004,
          2005,
          2006,
          2007,
          2008,
          2009,
          2010,
          2011,
          2012,
          2013,
          2014,
          2015,
          2016,
          2017
         ],
         "y": [
          1,
          1,
          3,
          2,
          3,
          11,
          8,
          1,
          11,
          20,
          2,
          18,
          6,
          5,
          6,
          9,
          6,
          9,
          37,
          61,
          76,
          42,
          63,
          175,
          616,
          346,
          714,
          638,
          533,
          484
         ]
        },
        {
         "mode": "lines+markers",
         "name": "Thailand",
         "type": "scatter",
         "x": [
          1972,
          1974,
          1977,
          1978,
          1979,
          1980,
          1981,
          1982,
          1983,
          1984,
          1985,
          1986,
          1988,
          1989,
          1990,
          1991,
          1992,
          1994,
          1995,
          1996,
          1997,
          1998,
          1999,
          2000,
          2001,
          2002,
          2003,
          2004,
          2005,
          2006,
          2007,
          2008,
          2009,
          2010,
          2011,
          2012,
          2013,
          2014,
          2015,
          2016,
          2017
         ],
         "y": [
          1,
          1,
          3,
          2,
          12,
          24,
          17,
          3,
          1,
          1,
          1,
          3,
          5,
          15,
          10,
          7,
          22,
          22,
          12,
          19,
          19,
          4,
          4,
          4,
          14,
          12,
          6,
          44,
          155,
          148,
          266,
          159,
          222,
          225,
          170,
          279,
          472,
          423,
          278,
          329,
          179
         ]
        },
        {
         "mode": "lines+markers",
         "name": "Yemen",
         "type": "scatter",
         "x": [
          1991,
          1992,
          1994,
          1995,
          1996,
          1997,
          1998,
          1999,
          2000,
          2001,
          2002,
          2003,
          2005,
          2006,
          2007,
          2008,
          2009,
          2010,
          2011,
          2012,
          2013,
          2014,
          2015,
          2016,
          2017
         ],
         "y": [
          5,
          24,
          19,
          8,
          8,
          19,
          7,
          17,
          10,
          7,
          7,
          7,
          7,
          5,
          7,
          22,
          23,
          112,
          118,
          312,
          425,
          763,
          664,
          525,
          226
         ]
        },
        {
         "mode": "lines+markers",
         "name": "Spain",
         "type": "scatter",
         "x": [
          1970,
          1971,
          1972,
          1973,
          1974,
          1975,
          1976,
          1977,
          1978,
          1979,
          1980,
          1981,
          1982,
          1983,
          1984,
          1985,
          1986,
          1987,
          1988,
          1989,
          1990,
          1991,
          1992,
          1994,
          1995,
          1996,
          1997,
          1998,
          1999,
          2000,
          2001,
          2002,
          2003,
          2004,
          2005,
          2006,
          2007,
          2008,
          2009,
          2010,
          2012,
          2013,
          2014,
          2015,
          2016,
          2017
         ],
         "y": [
          4,
          22,
          19,
          21,
          14,
          136,
          50,
          147,
          209,
          279,
          187,
          107,
          146,
          122,
          143,
          114,
          125,
          104,
          151,
          142,
          113,
          89,
          72,
          55,
          44,
          63,
          86,
          17,
          47,
          112,
          79,
          41,
          21,
          31,
          24,
          23,
          11,
          37,
          21,
          3,
          1,
          5,
          4,
          1,
          3,
          4
         ]
        }
       ],
       "layout": {
        "template": {
         "data": {
          "bar": [
           {
            "error_x": {
             "color": "#2a3f5f"
            },
            "error_y": {
             "color": "#2a3f5f"
            },
            "marker": {
             "line": {
              "color": "#E5ECF6",
              "width": 0.5
             },
             "pattern": {
              "fillmode": "overlay",
              "size": 10,
              "solidity": 0.2
             }
            },
            "type": "bar"
           }
          ],
          "barpolar": [
           {
            "marker": {
             "line": {
              "color": "#E5ECF6",
              "width": 0.5
             },
             "pattern": {
              "fillmode": "overlay",
              "size": 10,
              "solidity": 0.2
             }
            },
            "type": "barpolar"
           }
          ],
          "carpet": [
           {
            "aaxis": {
             "endlinecolor": "#2a3f5f",
             "gridcolor": "white",
             "linecolor": "white",
             "minorgridcolor": "white",
             "startlinecolor": "#2a3f5f"
            },
            "baxis": {
             "endlinecolor": "#2a3f5f",
             "gridcolor": "white",
             "linecolor": "white",
             "minorgridcolor": "white",
             "startlinecolor": "#2a3f5f"
            },
            "type": "carpet"
           }
          ],
          "choropleth": [
           {
            "colorbar": {
             "outlinewidth": 0,
             "ticks": ""
            },
            "type": "choropleth"
           }
          ],
          "contour": [
           {
            "colorbar": {
             "outlinewidth": 0,
             "ticks": ""
            },
            "colorscale": [
             [
              0,
              "#0d0887"
             ],
             [
              0.1111111111111111,
              "#46039f"
             ],
             [
              0.2222222222222222,
              "#7201a8"
             ],
             [
              0.3333333333333333,
              "#9c179e"
             ],
             [
              0.4444444444444444,
              "#bd3786"
             ],
             [
              0.5555555555555556,
              "#d8576b"
             ],
             [
              0.6666666666666666,
              "#ed7953"
             ],
             [
              0.7777777777777778,
              "#fb9f3a"
             ],
             [
              0.8888888888888888,
              "#fdca26"
             ],
             [
              1,
              "#f0f921"
             ]
            ],
            "type": "contour"
           }
          ],
          "contourcarpet": [
           {
            "colorbar": {
             "outlinewidth": 0,
             "ticks": ""
            },
            "type": "contourcarpet"
           }
          ],
          "heatmap": [
           {
            "colorbar": {
             "outlinewidth": 0,
             "ticks": ""
            },
            "colorscale": [
             [
              0,
              "#0d0887"
             ],
             [
              0.1111111111111111,
              "#46039f"
             ],
             [
              0.2222222222222222,
              "#7201a8"
             ],
             [
              0.3333333333333333,
              "#9c179e"
             ],
             [
              0.4444444444444444,
              "#bd3786"
             ],
             [
              0.5555555555555556,
              "#d8576b"
             ],
             [
              0.6666666666666666,
              "#ed7953"
             ],
             [
              0.7777777777777778,
              "#fb9f3a"
             ],
             [
              0.8888888888888888,
              "#fdca26"
             ],
             [
              1,
              "#f0f921"
             ]
            ],
            "type": "heatmap"
           }
          ],
          "heatmapgl": [
           {
            "colorbar": {
             "outlinewidth": 0,
             "ticks": ""
            },
            "colorscale": [
             [
              0,
              "#0d0887"
             ],
             [
              0.1111111111111111,
              "#46039f"
             ],
             [
              0.2222222222222222,
              "#7201a8"
             ],
             [
              0.3333333333333333,
              "#9c179e"
             ],
             [
              0.4444444444444444,
              "#bd3786"
             ],
             [
              0.5555555555555556,
              "#d8576b"
             ],
             [
              0.6666666666666666,
              "#ed7953"
             ],
             [
              0.7777777777777778,
              "#fb9f3a"
             ],
             [
              0.8888888888888888,
              "#fdca26"
             ],
             [
              1,
              "#f0f921"
             ]
            ],
            "type": "heatmapgl"
           }
          ],
          "histogram": [
           {
            "marker": {
             "pattern": {
              "fillmode": "overlay",
              "size": 10,
              "solidity": 0.2
             }
            },
            "type": "histogram"
           }
          ],
          "histogram2d": [
           {
            "colorbar": {
             "outlinewidth": 0,
             "ticks": ""
            },
            "colorscale": [
             [
              0,
              "#0d0887"
             ],
             [
              0.1111111111111111,
              "#46039f"
             ],
             [
              0.2222222222222222,
              "#7201a8"
             ],
             [
              0.3333333333333333,
              "#9c179e"
             ],
             [
              0.4444444444444444,
              "#bd3786"
             ],
             [
              0.5555555555555556,
              "#d8576b"
             ],
             [
              0.6666666666666666,
              "#ed7953"
             ],
             [
              0.7777777777777778,
              "#fb9f3a"
             ],
             [
              0.8888888888888888,
              "#fdca26"
             ],
             [
              1,
              "#f0f921"
             ]
            ],
            "type": "histogram2d"
           }
          ],
          "histogram2dcontour": [
           {
            "colorbar": {
             "outlinewidth": 0,
             "ticks": ""
            },
            "colorscale": [
             [
              0,
              "#0d0887"
             ],
             [
              0.1111111111111111,
              "#46039f"
             ],
             [
              0.2222222222222222,
              "#7201a8"
             ],
             [
              0.3333333333333333,
              "#9c179e"
             ],
             [
              0.4444444444444444,
              "#bd3786"
             ],
             [
              0.5555555555555556,
              "#d8576b"
             ],
             [
              0.6666666666666666,
              "#ed7953"
             ],
             [
              0.7777777777777778,
              "#fb9f3a"
             ],
             [
              0.8888888888888888,
              "#fdca26"
             ],
             [
              1,
              "#f0f921"
             ]
            ],
            "type": "histogram2dcontour"
           }
          ],
          "mesh3d": [
           {
            "colorbar": {
             "outlinewidth": 0,
             "ticks": ""
            },
            "type": "mesh3d"
           }
          ],
          "parcoords": [
           {
            "line": {
             "colorbar": {
              "outlinewidth": 0,
              "ticks": ""
             }
            },
            "type": "parcoords"
           }
          ],
          "pie": [
           {
            "automargin": true,
            "type": "pie"
           }
          ],
          "scatter": [
           {
            "fillpattern": {
             "fillmode": "overlay",
             "size": 10,
             "solidity": 0.2
            },
            "type": "scatter"
           }
          ],
          "scatter3d": [
           {
            "line": {
             "colorbar": {
              "outlinewidth": 0,
              "ticks": ""
             }
            },
            "marker": {
             "colorbar": {
              "outlinewidth": 0,
              "ticks": ""
             }
            },
            "type": "scatter3d"
           }
          ],
          "scattercarpet": [
           {
            "marker": {
             "colorbar": {
              "outlinewidth": 0,
              "ticks": ""
             }
            },
            "type": "scattercarpet"
           }
          ],
          "scattergeo": [
           {
            "marker": {
             "colorbar": {
              "outlinewidth": 0,
              "ticks": ""
             }
            },
            "type": "scattergeo"
           }
          ],
          "scattergl": [
           {
            "marker": {
             "colorbar": {
              "outlinewidth": 0,
              "ticks": ""
             }
            },
            "type": "scattergl"
           }
          ],
          "scattermapbox": [
           {
            "marker": {
             "colorbar": {
              "outlinewidth": 0,
              "ticks": ""
             }
            },
            "type": "scattermapbox"
           }
          ],
          "scatterpolar": [
           {
            "marker": {
             "colorbar": {
              "outlinewidth": 0,
              "ticks": ""
             }
            },
            "type": "scatterpolar"
           }
          ],
          "scatterpolargl": [
           {
            "marker": {
             "colorbar": {
              "outlinewidth": 0,
              "ticks": ""
             }
            },
            "type": "scatterpolargl"
           }
          ],
          "scatterternary": [
           {
            "marker": {
             "colorbar": {
              "outlinewidth": 0,
              "ticks": ""
             }
            },
            "type": "scatterternary"
           }
          ],
          "surface": [
           {
            "colorbar": {
             "outlinewidth": 0,
             "ticks": ""
            },
            "colorscale": [
             [
              0,
              "#0d0887"
             ],
             [
              0.1111111111111111,
              "#46039f"
             ],
             [
              0.2222222222222222,
              "#7201a8"
             ],
             [
              0.3333333333333333,
              "#9c179e"
             ],
             [
              0.4444444444444444,
              "#bd3786"
             ],
             [
              0.5555555555555556,
              "#d8576b"
             ],
             [
              0.6666666666666666,
              "#ed7953"
             ],
             [
              0.7777777777777778,
              "#fb9f3a"
             ],
             [
              0.8888888888888888,
              "#fdca26"
             ],
             [
              1,
              "#f0f921"
             ]
            ],
            "type": "surface"
           }
          ],
          "table": [
           {
            "cells": {
             "fill": {
              "color": "#EBF0F8"
             },
             "line": {
              "color": "white"
             }
            },
            "header": {
             "fill": {
              "color": "#C8D4E3"
             },
             "line": {
              "color": "white"
             }
            },
            "type": "table"
           }
          ]
         },
         "layout": {
          "annotationdefaults": {
           "arrowcolor": "#2a3f5f",
           "arrowhead": 0,
           "arrowwidth": 1
          },
          "autotypenumbers": "strict",
          "coloraxis": {
           "colorbar": {
            "outlinewidth": 0,
            "ticks": ""
           }
          },
          "colorscale": {
           "diverging": [
            [
             0,
             "#8e0152"
            ],
            [
             0.1,
             "#c51b7d"
            ],
            [
             0.2,
             "#de77ae"
            ],
            [
             0.3,
             "#f1b6da"
            ],
            [
             0.4,
             "#fde0ef"
            ],
            [
             0.5,
             "#f7f7f7"
            ],
            [
             0.6,
             "#e6f5d0"
            ],
            [
             0.7,
             "#b8e186"
            ],
            [
             0.8,
             "#7fbc41"
            ],
            [
             0.9,
             "#4d9221"
            ],
            [
             1,
             "#276419"
            ]
           ],
           "sequential": [
            [
             0,
             "#0d0887"
            ],
            [
             0.1111111111111111,
             "#46039f"
            ],
            [
             0.2222222222222222,
             "#7201a8"
            ],
            [
             0.3333333333333333,
             "#9c179e"
            ],
            [
             0.4444444444444444,
             "#bd3786"
            ],
            [
             0.5555555555555556,
             "#d8576b"
            ],
            [
             0.6666666666666666,
             "#ed7953"
            ],
            [
             0.7777777777777778,
             "#fb9f3a"
            ],
            [
             0.8888888888888888,
             "#fdca26"
            ],
            [
             1,
             "#f0f921"
            ]
           ],
           "sequentialminus": [
            [
             0,
             "#0d0887"
            ],
            [
             0.1111111111111111,
             "#46039f"
            ],
            [
             0.2222222222222222,
             "#7201a8"
            ],
            [
             0.3333333333333333,
             "#9c179e"
            ],
            [
             0.4444444444444444,
             "#bd3786"
            ],
            [
             0.5555555555555556,
             "#d8576b"
            ],
            [
             0.6666666666666666,
             "#ed7953"
            ],
            [
             0.7777777777777778,
             "#fb9f3a"
            ],
            [
             0.8888888888888888,
             "#fdca26"
            ],
            [
             1,
             "#f0f921"
            ]
           ]
          },
          "colorway": [
           "#636efa",
           "#EF553B",
           "#00cc96",
           "#ab63fa",
           "#FFA15A",
           "#19d3f3",
           "#FF6692",
           "#B6E880",
           "#FF97FF",
           "#FECB52"
          ],
          "font": {
           "color": "#2a3f5f"
          },
          "geo": {
           "bgcolor": "white",
           "lakecolor": "white",
           "landcolor": "#E5ECF6",
           "showlakes": true,
           "showland": true,
           "subunitcolor": "white"
          },
          "hoverlabel": {
           "align": "left"
          },
          "hovermode": "closest",
          "mapbox": {
           "style": "light"
          },
          "paper_bgcolor": "white",
          "plot_bgcolor": "#E5ECF6",
          "polar": {
           "angularaxis": {
            "gridcolor": "white",
            "linecolor": "white",
            "ticks": ""
           },
           "bgcolor": "#E5ECF6",
           "radialaxis": {
            "gridcolor": "white",
            "linecolor": "white",
            "ticks": ""
           }
          },
          "scene": {
           "xaxis": {
            "backgroundcolor": "#E5ECF6",
            "gridcolor": "white",
            "gridwidth": 2,
            "linecolor": "white",
            "showbackground": true,
            "ticks": "",
            "zerolinecolor": "white"
           },
           "yaxis": {
            "backgroundcolor": "#E5ECF6",
            "gridcolor": "white",
            "gridwidth": 2,
            "linecolor": "white",
            "showbackground": true,
            "ticks": "",
            "zerolinecolor": "white"
           },
           "zaxis": {
            "backgroundcolor": "#E5ECF6",
            "gridcolor": "white",
            "gridwidth": 2,
            "linecolor": "white",
            "showbackground": true,
            "ticks": "",
            "zerolinecolor": "white"
           }
          },
          "shapedefaults": {
           "line": {
            "color": "#2a3f5f"
           }
          },
          "ternary": {
           "aaxis": {
            "gridcolor": "white",
            "linecolor": "white",
            "ticks": ""
           },
           "baxis": {
            "gridcolor": "white",
            "linecolor": "white",
            "ticks": ""
           },
           "bgcolor": "#E5ECF6",
           "caxis": {
            "gridcolor": "white",
            "linecolor": "white",
            "ticks": ""
           }
          },
          "title": {
           "x": 0.05
          },
          "xaxis": {
           "automargin": true,
           "gridcolor": "white",
           "linecolor": "white",
           "ticks": "",
           "title": {
            "standoff": 15
           },
           "zerolinecolor": "white",
           "zerolinewidth": 2
          },
          "yaxis": {
           "automargin": true,
           "gridcolor": "white",
           "linecolor": "white",
           "ticks": "",
           "title": {
            "standoff": 15
           },
           "zerolinecolor": "white",
           "zerolinewidth": 2
          }
         }
        },
        "title": {
         "text": "Number of Terrorist Attacks Per Year for Top 15 Countries"
        },
        "xaxis": {
         "title": {
          "text": "Year"
         }
        },
        "yaxis": {
         "title": {
          "text": "Number of Attacks"
         }
        }
       }
      }
     },
     "metadata": {},
     "output_type": "display_data"
    }
   ],
   "source": [
    "import plotly.graph_objects as go\n",
    "\n",
    "# Create an empty figure\n",
    "fig = go.Figure()\n",
    "\n",
    "# Add a separate line to the figure for each country\n",
    "for country in top_countries:\n",
    "    df_country = df_top_countries[df_top_countries['Country'] == country]\n",
    "    fig.add_trace(go.Scatter(x=df_country['Year'], y=df_country['Number of Attacks'], \n",
    "                             mode='lines+markers', name=country))\n",
    "\n",
    "# Set the title and labels\n",
    "fig.update_layout(title='Number of Terrorist Attacks Per Year for Top {} Countries'.format(N),\n",
    "                  xaxis_title='Year', yaxis_title='Number of Attacks')\n",
    "\n",
    "# Show the figure\n",
    "fig.show()"
   ]
  },
  {
   "cell_type": "code",
   "execution_count": 23,
   "metadata": {},
   "outputs": [
    {
     "data": {
      "application/vnd.plotly.v1+json": {
       "config": {
        "plotlyServerURL": "https://plot.ly"
       },
       "data": [
        {
         "alignmentgroup": "True",
         "hovertemplate": "Number of Attacks=%{x}<br>Region=%{y}<extra></extra>",
         "legendgroup": "",
         "marker": {
          "color": "#636efa",
          "pattern": {
           "shape": ""
          }
         },
         "name": "",
         "offsetgroup": "",
         "orientation": "h",
         "showlegend": false,
         "textposition": "auto",
         "type": "bar",
         "x": [
          24620,
          14357,
          12592,
          11960,
          8306,
          6908,
          6096,
          5303,
          5235,
          4292
         ],
         "xaxis": "x",
         "y": [
          "Middle East & North Africa",
          "South Asia",
          "South Asia",
          "South Asia",
          "South America",
          "Southeast Asia",
          "South America",
          "Central America & Caribbean",
          "Western Europe",
          "Middle East & North Africa"
         ],
         "yaxis": "y"
        }
       ],
       "layout": {
        "barmode": "relative",
        "legend": {
         "tracegroupgap": 0
        },
        "template": {
         "data": {
          "bar": [
           {
            "error_x": {
             "color": "#2a3f5f"
            },
            "error_y": {
             "color": "#2a3f5f"
            },
            "marker": {
             "line": {
              "color": "#E5ECF6",
              "width": 0.5
             },
             "pattern": {
              "fillmode": "overlay",
              "size": 10,
              "solidity": 0.2
             }
            },
            "type": "bar"
           }
          ],
          "barpolar": [
           {
            "marker": {
             "line": {
              "color": "#E5ECF6",
              "width": 0.5
             },
             "pattern": {
              "fillmode": "overlay",
              "size": 10,
              "solidity": 0.2
             }
            },
            "type": "barpolar"
           }
          ],
          "carpet": [
           {
            "aaxis": {
             "endlinecolor": "#2a3f5f",
             "gridcolor": "white",
             "linecolor": "white",
             "minorgridcolor": "white",
             "startlinecolor": "#2a3f5f"
            },
            "baxis": {
             "endlinecolor": "#2a3f5f",
             "gridcolor": "white",
             "linecolor": "white",
             "minorgridcolor": "white",
             "startlinecolor": "#2a3f5f"
            },
            "type": "carpet"
           }
          ],
          "choropleth": [
           {
            "colorbar": {
             "outlinewidth": 0,
             "ticks": ""
            },
            "type": "choropleth"
           }
          ],
          "contour": [
           {
            "colorbar": {
             "outlinewidth": 0,
             "ticks": ""
            },
            "colorscale": [
             [
              0,
              "#0d0887"
             ],
             [
              0.1111111111111111,
              "#46039f"
             ],
             [
              0.2222222222222222,
              "#7201a8"
             ],
             [
              0.3333333333333333,
              "#9c179e"
             ],
             [
              0.4444444444444444,
              "#bd3786"
             ],
             [
              0.5555555555555556,
              "#d8576b"
             ],
             [
              0.6666666666666666,
              "#ed7953"
             ],
             [
              0.7777777777777778,
              "#fb9f3a"
             ],
             [
              0.8888888888888888,
              "#fdca26"
             ],
             [
              1,
              "#f0f921"
             ]
            ],
            "type": "contour"
           }
          ],
          "contourcarpet": [
           {
            "colorbar": {
             "outlinewidth": 0,
             "ticks": ""
            },
            "type": "contourcarpet"
           }
          ],
          "heatmap": [
           {
            "colorbar": {
             "outlinewidth": 0,
             "ticks": ""
            },
            "colorscale": [
             [
              0,
              "#0d0887"
             ],
             [
              0.1111111111111111,
              "#46039f"
             ],
             [
              0.2222222222222222,
              "#7201a8"
             ],
             [
              0.3333333333333333,
              "#9c179e"
             ],
             [
              0.4444444444444444,
              "#bd3786"
             ],
             [
              0.5555555555555556,
              "#d8576b"
             ],
             [
              0.6666666666666666,
              "#ed7953"
             ],
             [
              0.7777777777777778,
              "#fb9f3a"
             ],
             [
              0.8888888888888888,
              "#fdca26"
             ],
             [
              1,
              "#f0f921"
             ]
            ],
            "type": "heatmap"
           }
          ],
          "heatmapgl": [
           {
            "colorbar": {
             "outlinewidth": 0,
             "ticks": ""
            },
            "colorscale": [
             [
              0,
              "#0d0887"
             ],
             [
              0.1111111111111111,
              "#46039f"
             ],
             [
              0.2222222222222222,
              "#7201a8"
             ],
             [
              0.3333333333333333,
              "#9c179e"
             ],
             [
              0.4444444444444444,
              "#bd3786"
             ],
             [
              0.5555555555555556,
              "#d8576b"
             ],
             [
              0.6666666666666666,
              "#ed7953"
             ],
             [
              0.7777777777777778,
              "#fb9f3a"
             ],
             [
              0.8888888888888888,
              "#fdca26"
             ],
             [
              1,
              "#f0f921"
             ]
            ],
            "type": "heatmapgl"
           }
          ],
          "histogram": [
           {
            "marker": {
             "pattern": {
              "fillmode": "overlay",
              "size": 10,
              "solidity": 0.2
             }
            },
            "type": "histogram"
           }
          ],
          "histogram2d": [
           {
            "colorbar": {
             "outlinewidth": 0,
             "ticks": ""
            },
            "colorscale": [
             [
              0,
              "#0d0887"
             ],
             [
              0.1111111111111111,
              "#46039f"
             ],
             [
              0.2222222222222222,
              "#7201a8"
             ],
             [
              0.3333333333333333,
              "#9c179e"
             ],
             [
              0.4444444444444444,
              "#bd3786"
             ],
             [
              0.5555555555555556,
              "#d8576b"
             ],
             [
              0.6666666666666666,
              "#ed7953"
             ],
             [
              0.7777777777777778,
              "#fb9f3a"
             ],
             [
              0.8888888888888888,
              "#fdca26"
             ],
             [
              1,
              "#f0f921"
             ]
            ],
            "type": "histogram2d"
           }
          ],
          "histogram2dcontour": [
           {
            "colorbar": {
             "outlinewidth": 0,
             "ticks": ""
            },
            "colorscale": [
             [
              0,
              "#0d0887"
             ],
             [
              0.1111111111111111,
              "#46039f"
             ],
             [
              0.2222222222222222,
              "#7201a8"
             ],
             [
              0.3333333333333333,
              "#9c179e"
             ],
             [
              0.4444444444444444,
              "#bd3786"
             ],
             [
              0.5555555555555556,
              "#d8576b"
             ],
             [
              0.6666666666666666,
              "#ed7953"
             ],
             [
              0.7777777777777778,
              "#fb9f3a"
             ],
             [
              0.8888888888888888,
              "#fdca26"
             ],
             [
              1,
              "#f0f921"
             ]
            ],
            "type": "histogram2dcontour"
           }
          ],
          "mesh3d": [
           {
            "colorbar": {
             "outlinewidth": 0,
             "ticks": ""
            },
            "type": "mesh3d"
           }
          ],
          "parcoords": [
           {
            "line": {
             "colorbar": {
              "outlinewidth": 0,
              "ticks": ""
             }
            },
            "type": "parcoords"
           }
          ],
          "pie": [
           {
            "automargin": true,
            "type": "pie"
           }
          ],
          "scatter": [
           {
            "fillpattern": {
             "fillmode": "overlay",
             "size": 10,
             "solidity": 0.2
            },
            "type": "scatter"
           }
          ],
          "scatter3d": [
           {
            "line": {
             "colorbar": {
              "outlinewidth": 0,
              "ticks": ""
             }
            },
            "marker": {
             "colorbar": {
              "outlinewidth": 0,
              "ticks": ""
             }
            },
            "type": "scatter3d"
           }
          ],
          "scattercarpet": [
           {
            "marker": {
             "colorbar": {
              "outlinewidth": 0,
              "ticks": ""
             }
            },
            "type": "scattercarpet"
           }
          ],
          "scattergeo": [
           {
            "marker": {
             "colorbar": {
              "outlinewidth": 0,
              "ticks": ""
             }
            },
            "type": "scattergeo"
           }
          ],
          "scattergl": [
           {
            "marker": {
             "colorbar": {
              "outlinewidth": 0,
              "ticks": ""
             }
            },
            "type": "scattergl"
           }
          ],
          "scattermapbox": [
           {
            "marker": {
             "colorbar": {
              "outlinewidth": 0,
              "ticks": ""
             }
            },
            "type": "scattermapbox"
           }
          ],
          "scatterpolar": [
           {
            "marker": {
             "colorbar": {
              "outlinewidth": 0,
              "ticks": ""
             }
            },
            "type": "scatterpolar"
           }
          ],
          "scatterpolargl": [
           {
            "marker": {
             "colorbar": {
              "outlinewidth": 0,
              "ticks": ""
             }
            },
            "type": "scatterpolargl"
           }
          ],
          "scatterternary": [
           {
            "marker": {
             "colorbar": {
              "outlinewidth": 0,
              "ticks": ""
             }
            },
            "type": "scatterternary"
           }
          ],
          "surface": [
           {
            "colorbar": {
             "outlinewidth": 0,
             "ticks": ""
            },
            "colorscale": [
             [
              0,
              "#0d0887"
             ],
             [
              0.1111111111111111,
              "#46039f"
             ],
             [
              0.2222222222222222,
              "#7201a8"
             ],
             [
              0.3333333333333333,
              "#9c179e"
             ],
             [
              0.4444444444444444,
              "#bd3786"
             ],
             [
              0.5555555555555556,
              "#d8576b"
             ],
             [
              0.6666666666666666,
              "#ed7953"
             ],
             [
              0.7777777777777778,
              "#fb9f3a"
             ],
             [
              0.8888888888888888,
              "#fdca26"
             ],
             [
              1,
              "#f0f921"
             ]
            ],
            "type": "surface"
           }
          ],
          "table": [
           {
            "cells": {
             "fill": {
              "color": "#EBF0F8"
             },
             "line": {
              "color": "white"
             }
            },
            "header": {
             "fill": {
              "color": "#C8D4E3"
             },
             "line": {
              "color": "white"
             }
            },
            "type": "table"
           }
          ]
         },
         "layout": {
          "annotationdefaults": {
           "arrowcolor": "#2a3f5f",
           "arrowhead": 0,
           "arrowwidth": 1
          },
          "autotypenumbers": "strict",
          "coloraxis": {
           "colorbar": {
            "outlinewidth": 0,
            "ticks": ""
           }
          },
          "colorscale": {
           "diverging": [
            [
             0,
             "#8e0152"
            ],
            [
             0.1,
             "#c51b7d"
            ],
            [
             0.2,
             "#de77ae"
            ],
            [
             0.3,
             "#f1b6da"
            ],
            [
             0.4,
             "#fde0ef"
            ],
            [
             0.5,
             "#f7f7f7"
            ],
            [
             0.6,
             "#e6f5d0"
            ],
            [
             0.7,
             "#b8e186"
            ],
            [
             0.8,
             "#7fbc41"
            ],
            [
             0.9,
             "#4d9221"
            ],
            [
             1,
             "#276419"
            ]
           ],
           "sequential": [
            [
             0,
             "#0d0887"
            ],
            [
             0.1111111111111111,
             "#46039f"
            ],
            [
             0.2222222222222222,
             "#7201a8"
            ],
            [
             0.3333333333333333,
             "#9c179e"
            ],
            [
             0.4444444444444444,
             "#bd3786"
            ],
            [
             0.5555555555555556,
             "#d8576b"
            ],
            [
             0.6666666666666666,
             "#ed7953"
            ],
            [
             0.7777777777777778,
             "#fb9f3a"
            ],
            [
             0.8888888888888888,
             "#fdca26"
            ],
            [
             1,
             "#f0f921"
            ]
           ],
           "sequentialminus": [
            [
             0,
             "#0d0887"
            ],
            [
             0.1111111111111111,
             "#46039f"
            ],
            [
             0.2222222222222222,
             "#7201a8"
            ],
            [
             0.3333333333333333,
             "#9c179e"
            ],
            [
             0.4444444444444444,
             "#bd3786"
            ],
            [
             0.5555555555555556,
             "#d8576b"
            ],
            [
             0.6666666666666666,
             "#ed7953"
            ],
            [
             0.7777777777777778,
             "#fb9f3a"
            ],
            [
             0.8888888888888888,
             "#fdca26"
            ],
            [
             1,
             "#f0f921"
            ]
           ]
          },
          "colorway": [
           "#636efa",
           "#EF553B",
           "#00cc96",
           "#ab63fa",
           "#FFA15A",
           "#19d3f3",
           "#FF6692",
           "#B6E880",
           "#FF97FF",
           "#FECB52"
          ],
          "font": {
           "color": "#2a3f5f"
          },
          "geo": {
           "bgcolor": "white",
           "lakecolor": "white",
           "landcolor": "#E5ECF6",
           "showlakes": true,
           "showland": true,
           "subunitcolor": "white"
          },
          "hoverlabel": {
           "align": "left"
          },
          "hovermode": "closest",
          "mapbox": {
           "style": "light"
          },
          "paper_bgcolor": "white",
          "plot_bgcolor": "#E5ECF6",
          "polar": {
           "angularaxis": {
            "gridcolor": "white",
            "linecolor": "white",
            "ticks": ""
           },
           "bgcolor": "#E5ECF6",
           "radialaxis": {
            "gridcolor": "white",
            "linecolor": "white",
            "ticks": ""
           }
          },
          "scene": {
           "xaxis": {
            "backgroundcolor": "#E5ECF6",
            "gridcolor": "white",
            "gridwidth": 2,
            "linecolor": "white",
            "showbackground": true,
            "ticks": "",
            "zerolinecolor": "white"
           },
           "yaxis": {
            "backgroundcolor": "#E5ECF6",
            "gridcolor": "white",
            "gridwidth": 2,
            "linecolor": "white",
            "showbackground": true,
            "ticks": "",
            "zerolinecolor": "white"
           },
           "zaxis": {
            "backgroundcolor": "#E5ECF6",
            "gridcolor": "white",
            "gridwidth": 2,
            "linecolor": "white",
            "showbackground": true,
            "ticks": "",
            "zerolinecolor": "white"
           }
          },
          "shapedefaults": {
           "line": {
            "color": "#2a3f5f"
           }
          },
          "ternary": {
           "aaxis": {
            "gridcolor": "white",
            "linecolor": "white",
            "ticks": ""
           },
           "baxis": {
            "gridcolor": "white",
            "linecolor": "white",
            "ticks": ""
           },
           "bgcolor": "#E5ECF6",
           "caxis": {
            "gridcolor": "white",
            "linecolor": "white",
            "ticks": ""
           }
          },
          "title": {
           "x": 0.05
          },
          "xaxis": {
           "automargin": true,
           "gridcolor": "white",
           "linecolor": "white",
           "ticks": "",
           "title": {
            "standoff": 15
           },
           "zerolinecolor": "white",
           "zerolinewidth": 2
          },
          "yaxis": {
           "automargin": true,
           "gridcolor": "white",
           "linecolor": "white",
           "ticks": "",
           "title": {
            "standoff": 15
           },
           "zerolinecolor": "white",
           "zerolinewidth": 2
          }
         }
        },
        "title": {
         "text": "Top 10 Regions with the Highest Number of Terrorist Attacks"
        },
        "xaxis": {
         "anchor": "y",
         "domain": [
          0,
          1
         ],
         "title": {
          "text": "Number of Attacks"
         }
        },
        "yaxis": {
         "anchor": "x",
         "domain": [
          0,
          1
         ],
         "title": {
          "text": "Region"
         }
        }
       }
      }
     },
     "metadata": {},
     "output_type": "display_data"
    }
   ],
   "source": [
    "import plotly.express as px\n",
    "geographical_counts = df.groupby(['Country', 'Region'])['eventid'].count().reset_index()\n",
    "\n",
    "# Find the region with the highest number of attacks.\n",
    "most_affected_region = geographical_counts.loc[geographical_counts['eventid'].idxmax()]\n",
    "\n",
    "# Find the top 10 regions with the highest number of attacks.\n",
    "top_regions = geographical_counts.nlargest(10, 'eventid')\n",
    "\n",
    "# Create an interactive bar plot using Plotly Express.\n",
    "fig = px.bar(\n",
    "    top_regions,\n",
    "    x='eventid',\n",
    "    y='Region',\n",
    "    title='Top 10 Regions with the Highest Number of Terrorist Attacks',\n",
    "    labels={'eventid': 'Number of Attacks', 'Region': 'Region'},\n",
    "    orientation='h',  # Horizontal bar chart\n",
    ")\n",
    "\n",
    "# Show the interactive plot.\n",
    "fig.show()\n"
   ]
  },
  {
   "cell_type": "code",
   "execution_count": 42,
   "metadata": {},
   "outputs": [
    {
     "data": {
      "application/vnd.plotly.v1+json": {
       "config": {
        "plotlyServerURL": "https://plot.ly"
       },
       "data": [
        {
         "alignmentgroup": "True",
         "hovertemplate": "Number of Attacks=%{x}<br>City=%{y}<extra></extra>",
         "legendgroup": "",
         "marker": {
          "color": "#636efa",
          "pattern": {
           "shape": ""
          }
         },
         "name": "",
         "offsetgroup": "",
         "orientation": "h",
         "showlegend": false,
         "textposition": "auto",
         "type": "bar",
         "x": [
          7585,
          2651,
          2359,
          2265,
          2170,
          1611,
          1581,
          1557,
          1124,
          1048
         ],
         "xaxis": "x",
         "y": [
          "Baghdad",
          "Karachi",
          "Lima",
          "Mosul",
          "Belfast",
          "Santiago",
          "Mogadishu",
          "San Salvador",
          "Unknown",
          "Istanbul"
         ],
         "yaxis": "y"
        }
       ],
       "layout": {
        "barmode": "relative",
        "legend": {
         "tracegroupgap": 0
        },
        "template": {
         "data": {
          "bar": [
           {
            "error_x": {
             "color": "#2a3f5f"
            },
            "error_y": {
             "color": "#2a3f5f"
            },
            "marker": {
             "line": {
              "color": "#E5ECF6",
              "width": 0.5
             },
             "pattern": {
              "fillmode": "overlay",
              "size": 10,
              "solidity": 0.2
             }
            },
            "type": "bar"
           }
          ],
          "barpolar": [
           {
            "marker": {
             "line": {
              "color": "#E5ECF6",
              "width": 0.5
             },
             "pattern": {
              "fillmode": "overlay",
              "size": 10,
              "solidity": 0.2
             }
            },
            "type": "barpolar"
           }
          ],
          "carpet": [
           {
            "aaxis": {
             "endlinecolor": "#2a3f5f",
             "gridcolor": "white",
             "linecolor": "white",
             "minorgridcolor": "white",
             "startlinecolor": "#2a3f5f"
            },
            "baxis": {
             "endlinecolor": "#2a3f5f",
             "gridcolor": "white",
             "linecolor": "white",
             "minorgridcolor": "white",
             "startlinecolor": "#2a3f5f"
            },
            "type": "carpet"
           }
          ],
          "choropleth": [
           {
            "colorbar": {
             "outlinewidth": 0,
             "ticks": ""
            },
            "type": "choropleth"
           }
          ],
          "contour": [
           {
            "colorbar": {
             "outlinewidth": 0,
             "ticks": ""
            },
            "colorscale": [
             [
              0,
              "#0d0887"
             ],
             [
              0.1111111111111111,
              "#46039f"
             ],
             [
              0.2222222222222222,
              "#7201a8"
             ],
             [
              0.3333333333333333,
              "#9c179e"
             ],
             [
              0.4444444444444444,
              "#bd3786"
             ],
             [
              0.5555555555555556,
              "#d8576b"
             ],
             [
              0.6666666666666666,
              "#ed7953"
             ],
             [
              0.7777777777777778,
              "#fb9f3a"
             ],
             [
              0.8888888888888888,
              "#fdca26"
             ],
             [
              1,
              "#f0f921"
             ]
            ],
            "type": "contour"
           }
          ],
          "contourcarpet": [
           {
            "colorbar": {
             "outlinewidth": 0,
             "ticks": ""
            },
            "type": "contourcarpet"
           }
          ],
          "heatmap": [
           {
            "colorbar": {
             "outlinewidth": 0,
             "ticks": ""
            },
            "colorscale": [
             [
              0,
              "#0d0887"
             ],
             [
              0.1111111111111111,
              "#46039f"
             ],
             [
              0.2222222222222222,
              "#7201a8"
             ],
             [
              0.3333333333333333,
              "#9c179e"
             ],
             [
              0.4444444444444444,
              "#bd3786"
             ],
             [
              0.5555555555555556,
              "#d8576b"
             ],
             [
              0.6666666666666666,
              "#ed7953"
             ],
             [
              0.7777777777777778,
              "#fb9f3a"
             ],
             [
              0.8888888888888888,
              "#fdca26"
             ],
             [
              1,
              "#f0f921"
             ]
            ],
            "type": "heatmap"
           }
          ],
          "heatmapgl": [
           {
            "colorbar": {
             "outlinewidth": 0,
             "ticks": ""
            },
            "colorscale": [
             [
              0,
              "#0d0887"
             ],
             [
              0.1111111111111111,
              "#46039f"
             ],
             [
              0.2222222222222222,
              "#7201a8"
             ],
             [
              0.3333333333333333,
              "#9c179e"
             ],
             [
              0.4444444444444444,
              "#bd3786"
             ],
             [
              0.5555555555555556,
              "#d8576b"
             ],
             [
              0.6666666666666666,
              "#ed7953"
             ],
             [
              0.7777777777777778,
              "#fb9f3a"
             ],
             [
              0.8888888888888888,
              "#fdca26"
             ],
             [
              1,
              "#f0f921"
             ]
            ],
            "type": "heatmapgl"
           }
          ],
          "histogram": [
           {
            "marker": {
             "pattern": {
              "fillmode": "overlay",
              "size": 10,
              "solidity": 0.2
             }
            },
            "type": "histogram"
           }
          ],
          "histogram2d": [
           {
            "colorbar": {
             "outlinewidth": 0,
             "ticks": ""
            },
            "colorscale": [
             [
              0,
              "#0d0887"
             ],
             [
              0.1111111111111111,
              "#46039f"
             ],
             [
              0.2222222222222222,
              "#7201a8"
             ],
             [
              0.3333333333333333,
              "#9c179e"
             ],
             [
              0.4444444444444444,
              "#bd3786"
             ],
             [
              0.5555555555555556,
              "#d8576b"
             ],
             [
              0.6666666666666666,
              "#ed7953"
             ],
             [
              0.7777777777777778,
              "#fb9f3a"
             ],
             [
              0.8888888888888888,
              "#fdca26"
             ],
             [
              1,
              "#f0f921"
             ]
            ],
            "type": "histogram2d"
           }
          ],
          "histogram2dcontour": [
           {
            "colorbar": {
             "outlinewidth": 0,
             "ticks": ""
            },
            "colorscale": [
             [
              0,
              "#0d0887"
             ],
             [
              0.1111111111111111,
              "#46039f"
             ],
             [
              0.2222222222222222,
              "#7201a8"
             ],
             [
              0.3333333333333333,
              "#9c179e"
             ],
             [
              0.4444444444444444,
              "#bd3786"
             ],
             [
              0.5555555555555556,
              "#d8576b"
             ],
             [
              0.6666666666666666,
              "#ed7953"
             ],
             [
              0.7777777777777778,
              "#fb9f3a"
             ],
             [
              0.8888888888888888,
              "#fdca26"
             ],
             [
              1,
              "#f0f921"
             ]
            ],
            "type": "histogram2dcontour"
           }
          ],
          "mesh3d": [
           {
            "colorbar": {
             "outlinewidth": 0,
             "ticks": ""
            },
            "type": "mesh3d"
           }
          ],
          "parcoords": [
           {
            "line": {
             "colorbar": {
              "outlinewidth": 0,
              "ticks": ""
             }
            },
            "type": "parcoords"
           }
          ],
          "pie": [
           {
            "automargin": true,
            "type": "pie"
           }
          ],
          "scatter": [
           {
            "fillpattern": {
             "fillmode": "overlay",
             "size": 10,
             "solidity": 0.2
            },
            "type": "scatter"
           }
          ],
          "scatter3d": [
           {
            "line": {
             "colorbar": {
              "outlinewidth": 0,
              "ticks": ""
             }
            },
            "marker": {
             "colorbar": {
              "outlinewidth": 0,
              "ticks": ""
             }
            },
            "type": "scatter3d"
           }
          ],
          "scattercarpet": [
           {
            "marker": {
             "colorbar": {
              "outlinewidth": 0,
              "ticks": ""
             }
            },
            "type": "scattercarpet"
           }
          ],
          "scattergeo": [
           {
            "marker": {
             "colorbar": {
              "outlinewidth": 0,
              "ticks": ""
             }
            },
            "type": "scattergeo"
           }
          ],
          "scattergl": [
           {
            "marker": {
             "colorbar": {
              "outlinewidth": 0,
              "ticks": ""
             }
            },
            "type": "scattergl"
           }
          ],
          "scattermapbox": [
           {
            "marker": {
             "colorbar": {
              "outlinewidth": 0,
              "ticks": ""
             }
            },
            "type": "scattermapbox"
           }
          ],
          "scatterpolar": [
           {
            "marker": {
             "colorbar": {
              "outlinewidth": 0,
              "ticks": ""
             }
            },
            "type": "scatterpolar"
           }
          ],
          "scatterpolargl": [
           {
            "marker": {
             "colorbar": {
              "outlinewidth": 0,
              "ticks": ""
             }
            },
            "type": "scatterpolargl"
           }
          ],
          "scatterternary": [
           {
            "marker": {
             "colorbar": {
              "outlinewidth": 0,
              "ticks": ""
             }
            },
            "type": "scatterternary"
           }
          ],
          "surface": [
           {
            "colorbar": {
             "outlinewidth": 0,
             "ticks": ""
            },
            "colorscale": [
             [
              0,
              "#0d0887"
             ],
             [
              0.1111111111111111,
              "#46039f"
             ],
             [
              0.2222222222222222,
              "#7201a8"
             ],
             [
              0.3333333333333333,
              "#9c179e"
             ],
             [
              0.4444444444444444,
              "#bd3786"
             ],
             [
              0.5555555555555556,
              "#d8576b"
             ],
             [
              0.6666666666666666,
              "#ed7953"
             ],
             [
              0.7777777777777778,
              "#fb9f3a"
             ],
             [
              0.8888888888888888,
              "#fdca26"
             ],
             [
              1,
              "#f0f921"
             ]
            ],
            "type": "surface"
           }
          ],
          "table": [
           {
            "cells": {
             "fill": {
              "color": "#EBF0F8"
             },
             "line": {
              "color": "white"
             }
            },
            "header": {
             "fill": {
              "color": "#C8D4E3"
             },
             "line": {
              "color": "white"
             }
            },
            "type": "table"
           }
          ]
         },
         "layout": {
          "annotationdefaults": {
           "arrowcolor": "#2a3f5f",
           "arrowhead": 0,
           "arrowwidth": 1
          },
          "autotypenumbers": "strict",
          "coloraxis": {
           "colorbar": {
            "outlinewidth": 0,
            "ticks": ""
           }
          },
          "colorscale": {
           "diverging": [
            [
             0,
             "#8e0152"
            ],
            [
             0.1,
             "#c51b7d"
            ],
            [
             0.2,
             "#de77ae"
            ],
            [
             0.3,
             "#f1b6da"
            ],
            [
             0.4,
             "#fde0ef"
            ],
            [
             0.5,
             "#f7f7f7"
            ],
            [
             0.6,
             "#e6f5d0"
            ],
            [
             0.7,
             "#b8e186"
            ],
            [
             0.8,
             "#7fbc41"
            ],
            [
             0.9,
             "#4d9221"
            ],
            [
             1,
             "#276419"
            ]
           ],
           "sequential": [
            [
             0,
             "#0d0887"
            ],
            [
             0.1111111111111111,
             "#46039f"
            ],
            [
             0.2222222222222222,
             "#7201a8"
            ],
            [
             0.3333333333333333,
             "#9c179e"
            ],
            [
             0.4444444444444444,
             "#bd3786"
            ],
            [
             0.5555555555555556,
             "#d8576b"
            ],
            [
             0.6666666666666666,
             "#ed7953"
            ],
            [
             0.7777777777777778,
             "#fb9f3a"
            ],
            [
             0.8888888888888888,
             "#fdca26"
            ],
            [
             1,
             "#f0f921"
            ]
           ],
           "sequentialminus": [
            [
             0,
             "#0d0887"
            ],
            [
             0.1111111111111111,
             "#46039f"
            ],
            [
             0.2222222222222222,
             "#7201a8"
            ],
            [
             0.3333333333333333,
             "#9c179e"
            ],
            [
             0.4444444444444444,
             "#bd3786"
            ],
            [
             0.5555555555555556,
             "#d8576b"
            ],
            [
             0.6666666666666666,
             "#ed7953"
            ],
            [
             0.7777777777777778,
             "#fb9f3a"
            ],
            [
             0.8888888888888888,
             "#fdca26"
            ],
            [
             1,
             "#f0f921"
            ]
           ]
          },
          "colorway": [
           "#636efa",
           "#EF553B",
           "#00cc96",
           "#ab63fa",
           "#FFA15A",
           "#19d3f3",
           "#FF6692",
           "#B6E880",
           "#FF97FF",
           "#FECB52"
          ],
          "font": {
           "color": "#2a3f5f"
          },
          "geo": {
           "bgcolor": "white",
           "lakecolor": "white",
           "landcolor": "#E5ECF6",
           "showlakes": true,
           "showland": true,
           "subunitcolor": "white"
          },
          "hoverlabel": {
           "align": "left"
          },
          "hovermode": "closest",
          "mapbox": {
           "style": "light"
          },
          "paper_bgcolor": "white",
          "plot_bgcolor": "#E5ECF6",
          "polar": {
           "angularaxis": {
            "gridcolor": "white",
            "linecolor": "white",
            "ticks": ""
           },
           "bgcolor": "#E5ECF6",
           "radialaxis": {
            "gridcolor": "white",
            "linecolor": "white",
            "ticks": ""
           }
          },
          "scene": {
           "xaxis": {
            "backgroundcolor": "#E5ECF6",
            "gridcolor": "white",
            "gridwidth": 2,
            "linecolor": "white",
            "showbackground": true,
            "ticks": "",
            "zerolinecolor": "white"
           },
           "yaxis": {
            "backgroundcolor": "#E5ECF6",
            "gridcolor": "white",
            "gridwidth": 2,
            "linecolor": "white",
            "showbackground": true,
            "ticks": "",
            "zerolinecolor": "white"
           },
           "zaxis": {
            "backgroundcolor": "#E5ECF6",
            "gridcolor": "white",
            "gridwidth": 2,
            "linecolor": "white",
            "showbackground": true,
            "ticks": "",
            "zerolinecolor": "white"
           }
          },
          "shapedefaults": {
           "line": {
            "color": "#2a3f5f"
           }
          },
          "ternary": {
           "aaxis": {
            "gridcolor": "white",
            "linecolor": "white",
            "ticks": ""
           },
           "baxis": {
            "gridcolor": "white",
            "linecolor": "white",
            "ticks": ""
           },
           "bgcolor": "#E5ECF6",
           "caxis": {
            "gridcolor": "white",
            "linecolor": "white",
            "ticks": ""
           }
          },
          "title": {
           "x": 0.05
          },
          "xaxis": {
           "automargin": true,
           "gridcolor": "white",
           "linecolor": "white",
           "ticks": "",
           "title": {
            "standoff": 15
           },
           "zerolinecolor": "white",
           "zerolinewidth": 2
          },
          "yaxis": {
           "automargin": true,
           "gridcolor": "white",
           "linecolor": "white",
           "ticks": "",
           "title": {
            "standoff": 15
           },
           "zerolinecolor": "white",
           "zerolinewidth": 2
          }
         }
        },
        "title": {
         "text": "Top 10 Cities with the Highest Number of Terrorist Attacks"
        },
        "xaxis": {
         "anchor": "y",
         "domain": [
          0,
          1
         ],
         "title": {
          "text": "Number of Attacks"
         }
        },
        "yaxis": {
         "anchor": "x",
         "domain": [
          0,
          1
         ],
         "title": {
          "text": "City"
         }
        }
       }
      }
     },
     "metadata": {},
     "output_type": "display_data"
    }
   ],
   "source": [
    "# Group the data to find the city with the highest number of attacks\n",
    "geographical_city_counts = df.groupby(['Country', 'Region', 'city'])['eventid'].count().reset_index()\n",
    "most_affected_city = geographical_city_counts.loc[geographical_city_counts['eventid'].idxmax()]\n",
    "\n",
    "# Sort and get the top 10 cities with the highest number of attacks\n",
    "top_10_cities = geographical_city_counts.nlargest(10, 'eventid')\n",
    "\n",
    "# Create a bar plot for the top 10 cities with the highest number of attacks using Plotly\n",
    "fig = px.bar(\n",
    "    top_10_cities,\n",
    "    x='eventid',\n",
    "    y='city',\n",
    "    orientation='h',\n",
    "    labels={'eventid': 'Number of Attacks', 'city': 'City'},\n",
    "    title='Top 10 Cities with the Highest Number of Terrorist Attacks'\n",
    ")\n",
    "\n",
    "# Show the interactive plot\n",
    "fig.show()\n"
   ]
  },
  {
   "cell_type": "code",
   "execution_count": 44,
   "metadata": {},
   "outputs": [
    {
     "data": {
      "application/vnd.plotly.v1+json": {
       "config": {
        "plotlyServerURL": "https://plot.ly"
       },
       "data": [
        {
         "alignmentgroup": "True",
         "hovertemplate": "Country=%{x}<br>Total Casualties=%{y}<extra></extra>",
         "legendgroup": "",
         "marker": {
          "color": "#636efa",
          "pattern": {
           "shape": ""
          }
         },
         "name": "",
         "offsetgroup": "",
         "orientation": "v",
         "showlegend": false,
         "textposition": "auto",
         "type": "bar",
         "x": [
          "Iraq",
          "Afghanistan",
          "Pakistan",
          "India",
          "Sri Lanka",
          "Nigeria",
          "Colombia",
          "United States",
          "Syria",
          "Philippines",
          "El Salvador",
          "Somalia",
          "Peru",
          "Algeria",
          "Yemen",
          "Turkey",
          "United Kingdom",
          "Lebanon",
          "Nicaragua",
          "Russia",
          "Israel",
          "Thailand",
          "Bangladesh",
          "Egypt",
          "Kenya",
          "Guatemala",
          "Spain",
          "South Africa",
          "Libya",
          "Japan",
          "Burundi",
          "Iran",
          "Sudan",
          "Democratic Republic of the Congo",
          "Ukraine",
          "Angola",
          "West Bank and Gaza Strip",
          "Mozambique",
          "Rwanda",
          "France",
          "Uganda",
          "Nepal",
          "Indonesia",
          "South Sudan",
          "Chile",
          "Myanmar",
          "Mali",
          "Ethiopia",
          "Cameroon",
          "Chad",
          "China",
          "Saudi Arabia",
          "Central African Republic",
          "Italy",
          "Niger",
          "Argentina",
          "Mexico",
          "West Germany (FRG)",
          "Tajikistan",
          "Cambodia",
          "Greece",
          "Sierra Leone",
          "Tunisia",
          "Germany",
          "Namibia",
          "Georgia",
          "Honduras",
          "Senegal",
          "Haiti",
          "Belgium",
          "Venezuela",
          "Zaire",
          "Canada",
          "Kosovo",
          "Morocco",
          "Brazil",
          "Djibouti",
          "Ivory Coast",
          "Yugoslavia",
          "Jordan",
          "Zimbabwe",
          "Rhodesia",
          "Bolivia",
          "Kuwait",
          "Burkina Faso",
          "Ireland",
          "Tanzania",
          "Croatia",
          "Azerbaijan",
          "Uzbekistan",
          "Bahrain",
          "Soviet Union",
          "Belarus",
          "Liberia",
          "Switzerland",
          "Bosnia-Herzegovina",
          "Portugal",
          "Madagascar",
          "Ecuador",
          "Papua New Guinea",
          "Malaysia",
          "Austria",
          "Albania",
          "Republic of the Congo",
          "Norway",
          "United Arab Emirates",
          "Guinea",
          "Dominican Republic",
          "Maldives",
          "South Korea",
          "Zambia",
          "Paraguay",
          "Panama",
          "Australia",
          "Netherlands",
          "Sweden",
          "Macedonia",
          "Costa Rica",
          "Eritrea",
          "Togo",
          "Taiwan",
          "Guadeloupe",
          "Armenia",
          "Laos",
          "Lesotho",
          "Mauritania",
          "Cyprus",
          "Hong Kong",
          "Jamaica",
          "South Vietnam",
          "East Germany (GDR)",
          "Barbados",
          "Bulgaria",
          "Moldova",
          "Guyana",
          "Kazakhstan",
          "New Caledonia",
          "Suriname",
          "Macau",
          "Czechoslovakia",
          "Guinea-Bissau",
          "Trinidad and Tobago",
          "Denmark",
          "Finland",
          "Latvia",
          "Poland",
          "Kyrgyzstan",
          "Czech Republic",
          "Uruguay",
          "Malawi",
          "Botswana",
          "Ghana",
          "Grenada",
          "Fiji",
          "French Guiana",
          "Hungary",
          "People's Republic of the Congo",
          "Qatar",
          "Bhutan",
          "Slovak Republic",
          "East Timor",
          "Malta",
          "Martinique",
          "Gambia",
          "Swaziland",
          "Cuba",
          "St. Lucia",
          "Estonia",
          "Benin",
          "International",
          "French Polynesia",
          "Dominica",
          "Serbia",
          "Romania",
          "Western Sahara",
          "St. Kitts and Nevis",
          "Gabon",
          "Serbia-Montenegro",
          "Singapore",
          "North Korea",
          "Vietnam",
          "Turkmenistan",
          "Luxembourg",
          "Antigua and Barbuda",
          "Falkland Islands",
          "Andorra",
          "Equatorial Guinea",
          "North Yemen",
          "Solomon Islands",
          "Vatican City",
          "Lithuania",
          "Comoros",
          "New Zealand",
          "Slovenia",
          "Belize",
          "South Yemen",
          "Mauritius",
          "Montenegro",
          "Brunei",
          "Vanuatu",
          "Wallis and Futuna",
          "New Hebrides",
          "Seychelles",
          "Bahamas",
          "Iceland"
         ],
         "xaxis": "x",
         "y": [
          209947.01039062405,
          83832.63465736552,
          67005.97230386478,
          49600.7705891679,
          30481.48973742942,
          27100.716184738467,
          26996.994231496275,
          24955.554117833577,
          24785.171628230302,
          24074.116809151554,
          23676.956974035635,
          22166.968925692403,
          20016.97848701782,
          19613.62946205349,
          18573.92366793907,
          17542.602753759285,
          16745.302206178276,
          16011.385294583948,
          13672.765808505188,
          11450.175006402673,
          10364.196934034171,
          10016.454455650817,
          9453.061990072807,
          8857.188360549777,
          8202.580826127785,
          7841.659963169384,
          7763.256533775626,
          7600.946583411588,
          7198.901740307572,
          7162.80924911887,
          6397.061990072808,
          6227.62946205349,
          6110.8531043818675,
          5295.576045465078,
          5249.312340695391,
          5091.454455650816,
          5009.578435796431,
          4311.682878641902,
          4167.607534421991,
          4025.019537300145,
          3952.5808261277853,
          3783.4411015037135,
          3697.7205507518565,
          3672.795894971767,
          3184.3671597741377,
          2976.0486359257047,
          2944.9599375586913,
          2762.594180274888,
          2713.4787736136686,
          2665.8602753759283,
          2530.9489737429417,
          2385.935619595839,
          2383.4411015037135,
          2237.8068587875164,
          1842.1640425869239,
          1571.6051440906374,
          1545.2017146968792,
          1468.3767210995525,
          1397.607534421991,
          1267.6452065319463,
          1192.5054819078746,
          858.2527409539373,
          777.9113016329866,
          767,
          679.3414393209507,
          675.9113016329866,
          672.7205507518568,
          655.9113016329866,
          641.9113016329866,
          630.7339048989597,
          564.1640425869239,
          517.6075344219911,
          507.30376721099555,
          505.34143932095077,
          502.21506884398207,
          469.379111430906,
          446.60753442199103,
          442.4301376879642,
          441.6452065319463,
          414.21506884398207,
          413.12637047696865,
          412.77157700891496,
          385.3280851738478,
          374.9113016329866,
          355.21506884398207,
          331.1883605497762,
          329.5188360549776,
          317,
          313.21506884398207,
          267,
          248.91130163298658,
          234.30376721099552,
          231.30376721099552,
          229.82260326597316,
          226.34143932095077,
          218.2150688439821,
          217.1640425869239,
          216,
          207.55650816493286,
          188.5188360549776,
          184.4301376879642,
          182.5188360549776,
          182.2150688439821,
          180.55650816493286,
          167,
          160.60753442199103,
          157.5188360549776,
          154.60753442199103,
          147.30376721099552,
          146.91130163298658,
          142.60753442199103,
          140.91130163298658,
          132.91130163298658,
          129.2150688439821,
          122.82260326597314,
          122.2150688439821,
          119.2150688439821,
          116.9489737429418,
          113.30376721099552,
          110,
          109.30376721099552,
          106.03767210995524,
          105.30376721099552,
          90.60753442199105,
          90.60753442199105,
          86.91130163298658,
          84.91130163298658,
          83,
          81.91130163298658,
          81,
          80.25274095393733,
          79,
          76.91130163298658,
          76,
          65.30376721099552,
          59,
          54,
          53,
          52.303767210995524,
          50,
          48.303767210995524,
          47.60753442199105,
          44.60753442199105,
          43.303767210995524,
          42.303767210995524,
          42.303767210995524,
          41.303767210995524,
          35,
          33.215068843982095,
          33,
          32.60753442199105,
          32,
          26,
          25,
          24.607534421991048,
          22,
          20.303767210995524,
          20,
          19.303767210995524,
          18,
          17.303767210995524,
          17,
          16.91130163298657,
          15,
          14.303767210995524,
          14,
          14,
          14,
          13.303767210995524,
          13,
          13,
          13,
          12,
          11,
          10.303767210995524,
          9,
          9,
          8,
          8,
          7,
          7,
          6,
          6,
          5.303767210995524,
          5.303767210995524,
          5.303767210995524,
          5,
          4,
          4,
          3,
          3,
          3,
          3,
          3,
          2,
          2,
          1,
          1,
          1,
          0,
          0,
          0,
          0,
          0,
          0
         ],
         "yaxis": "y"
        }
       ],
       "layout": {
        "barmode": "relative",
        "legend": {
         "tracegroupgap": 0
        },
        "template": {
         "data": {
          "bar": [
           {
            "error_x": {
             "color": "#2a3f5f"
            },
            "error_y": {
             "color": "#2a3f5f"
            },
            "marker": {
             "line": {
              "color": "#E5ECF6",
              "width": 0.5
             },
             "pattern": {
              "fillmode": "overlay",
              "size": 10,
              "solidity": 0.2
             }
            },
            "type": "bar"
           }
          ],
          "barpolar": [
           {
            "marker": {
             "line": {
              "color": "#E5ECF6",
              "width": 0.5
             },
             "pattern": {
              "fillmode": "overlay",
              "size": 10,
              "solidity": 0.2
             }
            },
            "type": "barpolar"
           }
          ],
          "carpet": [
           {
            "aaxis": {
             "endlinecolor": "#2a3f5f",
             "gridcolor": "white",
             "linecolor": "white",
             "minorgridcolor": "white",
             "startlinecolor": "#2a3f5f"
            },
            "baxis": {
             "endlinecolor": "#2a3f5f",
             "gridcolor": "white",
             "linecolor": "white",
             "minorgridcolor": "white",
             "startlinecolor": "#2a3f5f"
            },
            "type": "carpet"
           }
          ],
          "choropleth": [
           {
            "colorbar": {
             "outlinewidth": 0,
             "ticks": ""
            },
            "type": "choropleth"
           }
          ],
          "contour": [
           {
            "colorbar": {
             "outlinewidth": 0,
             "ticks": ""
            },
            "colorscale": [
             [
              0,
              "#0d0887"
             ],
             [
              0.1111111111111111,
              "#46039f"
             ],
             [
              0.2222222222222222,
              "#7201a8"
             ],
             [
              0.3333333333333333,
              "#9c179e"
             ],
             [
              0.4444444444444444,
              "#bd3786"
             ],
             [
              0.5555555555555556,
              "#d8576b"
             ],
             [
              0.6666666666666666,
              "#ed7953"
             ],
             [
              0.7777777777777778,
              "#fb9f3a"
             ],
             [
              0.8888888888888888,
              "#fdca26"
             ],
             [
              1,
              "#f0f921"
             ]
            ],
            "type": "contour"
           }
          ],
          "contourcarpet": [
           {
            "colorbar": {
             "outlinewidth": 0,
             "ticks": ""
            },
            "type": "contourcarpet"
           }
          ],
          "heatmap": [
           {
            "colorbar": {
             "outlinewidth": 0,
             "ticks": ""
            },
            "colorscale": [
             [
              0,
              "#0d0887"
             ],
             [
              0.1111111111111111,
              "#46039f"
             ],
             [
              0.2222222222222222,
              "#7201a8"
             ],
             [
              0.3333333333333333,
              "#9c179e"
             ],
             [
              0.4444444444444444,
              "#bd3786"
             ],
             [
              0.5555555555555556,
              "#d8576b"
             ],
             [
              0.6666666666666666,
              "#ed7953"
             ],
             [
              0.7777777777777778,
              "#fb9f3a"
             ],
             [
              0.8888888888888888,
              "#fdca26"
             ],
             [
              1,
              "#f0f921"
             ]
            ],
            "type": "heatmap"
           }
          ],
          "heatmapgl": [
           {
            "colorbar": {
             "outlinewidth": 0,
             "ticks": ""
            },
            "colorscale": [
             [
              0,
              "#0d0887"
             ],
             [
              0.1111111111111111,
              "#46039f"
             ],
             [
              0.2222222222222222,
              "#7201a8"
             ],
             [
              0.3333333333333333,
              "#9c179e"
             ],
             [
              0.4444444444444444,
              "#bd3786"
             ],
             [
              0.5555555555555556,
              "#d8576b"
             ],
             [
              0.6666666666666666,
              "#ed7953"
             ],
             [
              0.7777777777777778,
              "#fb9f3a"
             ],
             [
              0.8888888888888888,
              "#fdca26"
             ],
             [
              1,
              "#f0f921"
             ]
            ],
            "type": "heatmapgl"
           }
          ],
          "histogram": [
           {
            "marker": {
             "pattern": {
              "fillmode": "overlay",
              "size": 10,
              "solidity": 0.2
             }
            },
            "type": "histogram"
           }
          ],
          "histogram2d": [
           {
            "colorbar": {
             "outlinewidth": 0,
             "ticks": ""
            },
            "colorscale": [
             [
              0,
              "#0d0887"
             ],
             [
              0.1111111111111111,
              "#46039f"
             ],
             [
              0.2222222222222222,
              "#7201a8"
             ],
             [
              0.3333333333333333,
              "#9c179e"
             ],
             [
              0.4444444444444444,
              "#bd3786"
             ],
             [
              0.5555555555555556,
              "#d8576b"
             ],
             [
              0.6666666666666666,
              "#ed7953"
             ],
             [
              0.7777777777777778,
              "#fb9f3a"
             ],
             [
              0.8888888888888888,
              "#fdca26"
             ],
             [
              1,
              "#f0f921"
             ]
            ],
            "type": "histogram2d"
           }
          ],
          "histogram2dcontour": [
           {
            "colorbar": {
             "outlinewidth": 0,
             "ticks": ""
            },
            "colorscale": [
             [
              0,
              "#0d0887"
             ],
             [
              0.1111111111111111,
              "#46039f"
             ],
             [
              0.2222222222222222,
              "#7201a8"
             ],
             [
              0.3333333333333333,
              "#9c179e"
             ],
             [
              0.4444444444444444,
              "#bd3786"
             ],
             [
              0.5555555555555556,
              "#d8576b"
             ],
             [
              0.6666666666666666,
              "#ed7953"
             ],
             [
              0.7777777777777778,
              "#fb9f3a"
             ],
             [
              0.8888888888888888,
              "#fdca26"
             ],
             [
              1,
              "#f0f921"
             ]
            ],
            "type": "histogram2dcontour"
           }
          ],
          "mesh3d": [
           {
            "colorbar": {
             "outlinewidth": 0,
             "ticks": ""
            },
            "type": "mesh3d"
           }
          ],
          "parcoords": [
           {
            "line": {
             "colorbar": {
              "outlinewidth": 0,
              "ticks": ""
             }
            },
            "type": "parcoords"
           }
          ],
          "pie": [
           {
            "automargin": true,
            "type": "pie"
           }
          ],
          "scatter": [
           {
            "fillpattern": {
             "fillmode": "overlay",
             "size": 10,
             "solidity": 0.2
            },
            "type": "scatter"
           }
          ],
          "scatter3d": [
           {
            "line": {
             "colorbar": {
              "outlinewidth": 0,
              "ticks": ""
             }
            },
            "marker": {
             "colorbar": {
              "outlinewidth": 0,
              "ticks": ""
             }
            },
            "type": "scatter3d"
           }
          ],
          "scattercarpet": [
           {
            "marker": {
             "colorbar": {
              "outlinewidth": 0,
              "ticks": ""
             }
            },
            "type": "scattercarpet"
           }
          ],
          "scattergeo": [
           {
            "marker": {
             "colorbar": {
              "outlinewidth": 0,
              "ticks": ""
             }
            },
            "type": "scattergeo"
           }
          ],
          "scattergl": [
           {
            "marker": {
             "colorbar": {
              "outlinewidth": 0,
              "ticks": ""
             }
            },
            "type": "scattergl"
           }
          ],
          "scattermapbox": [
           {
            "marker": {
             "colorbar": {
              "outlinewidth": 0,
              "ticks": ""
             }
            },
            "type": "scattermapbox"
           }
          ],
          "scatterpolar": [
           {
            "marker": {
             "colorbar": {
              "outlinewidth": 0,
              "ticks": ""
             }
            },
            "type": "scatterpolar"
           }
          ],
          "scatterpolargl": [
           {
            "marker": {
             "colorbar": {
              "outlinewidth": 0,
              "ticks": ""
             }
            },
            "type": "scatterpolargl"
           }
          ],
          "scatterternary": [
           {
            "marker": {
             "colorbar": {
              "outlinewidth": 0,
              "ticks": ""
             }
            },
            "type": "scatterternary"
           }
          ],
          "surface": [
           {
            "colorbar": {
             "outlinewidth": 0,
             "ticks": ""
            },
            "colorscale": [
             [
              0,
              "#0d0887"
             ],
             [
              0.1111111111111111,
              "#46039f"
             ],
             [
              0.2222222222222222,
              "#7201a8"
             ],
             [
              0.3333333333333333,
              "#9c179e"
             ],
             [
              0.4444444444444444,
              "#bd3786"
             ],
             [
              0.5555555555555556,
              "#d8576b"
             ],
             [
              0.6666666666666666,
              "#ed7953"
             ],
             [
              0.7777777777777778,
              "#fb9f3a"
             ],
             [
              0.8888888888888888,
              "#fdca26"
             ],
             [
              1,
              "#f0f921"
             ]
            ],
            "type": "surface"
           }
          ],
          "table": [
           {
            "cells": {
             "fill": {
              "color": "#EBF0F8"
             },
             "line": {
              "color": "white"
             }
            },
            "header": {
             "fill": {
              "color": "#C8D4E3"
             },
             "line": {
              "color": "white"
             }
            },
            "type": "table"
           }
          ]
         },
         "layout": {
          "annotationdefaults": {
           "arrowcolor": "#2a3f5f",
           "arrowhead": 0,
           "arrowwidth": 1
          },
          "autotypenumbers": "strict",
          "coloraxis": {
           "colorbar": {
            "outlinewidth": 0,
            "ticks": ""
           }
          },
          "colorscale": {
           "diverging": [
            [
             0,
             "#8e0152"
            ],
            [
             0.1,
             "#c51b7d"
            ],
            [
             0.2,
             "#de77ae"
            ],
            [
             0.3,
             "#f1b6da"
            ],
            [
             0.4,
             "#fde0ef"
            ],
            [
             0.5,
             "#f7f7f7"
            ],
            [
             0.6,
             "#e6f5d0"
            ],
            [
             0.7,
             "#b8e186"
            ],
            [
             0.8,
             "#7fbc41"
            ],
            [
             0.9,
             "#4d9221"
            ],
            [
             1,
             "#276419"
            ]
           ],
           "sequential": [
            [
             0,
             "#0d0887"
            ],
            [
             0.1111111111111111,
             "#46039f"
            ],
            [
             0.2222222222222222,
             "#7201a8"
            ],
            [
             0.3333333333333333,
             "#9c179e"
            ],
            [
             0.4444444444444444,
             "#bd3786"
            ],
            [
             0.5555555555555556,
             "#d8576b"
            ],
            [
             0.6666666666666666,
             "#ed7953"
            ],
            [
             0.7777777777777778,
             "#fb9f3a"
            ],
            [
             0.8888888888888888,
             "#fdca26"
            ],
            [
             1,
             "#f0f921"
            ]
           ],
           "sequentialminus": [
            [
             0,
             "#0d0887"
            ],
            [
             0.1111111111111111,
             "#46039f"
            ],
            [
             0.2222222222222222,
             "#7201a8"
            ],
            [
             0.3333333333333333,
             "#9c179e"
            ],
            [
             0.4444444444444444,
             "#bd3786"
            ],
            [
             0.5555555555555556,
             "#d8576b"
            ],
            [
             0.6666666666666666,
             "#ed7953"
            ],
            [
             0.7777777777777778,
             "#fb9f3a"
            ],
            [
             0.8888888888888888,
             "#fdca26"
            ],
            [
             1,
             "#f0f921"
            ]
           ]
          },
          "colorway": [
           "#636efa",
           "#EF553B",
           "#00cc96",
           "#ab63fa",
           "#FFA15A",
           "#19d3f3",
           "#FF6692",
           "#B6E880",
           "#FF97FF",
           "#FECB52"
          ],
          "font": {
           "color": "#2a3f5f"
          },
          "geo": {
           "bgcolor": "white",
           "lakecolor": "white",
           "landcolor": "#E5ECF6",
           "showlakes": true,
           "showland": true,
           "subunitcolor": "white"
          },
          "hoverlabel": {
           "align": "left"
          },
          "hovermode": "closest",
          "mapbox": {
           "style": "light"
          },
          "paper_bgcolor": "white",
          "plot_bgcolor": "#E5ECF6",
          "polar": {
           "angularaxis": {
            "gridcolor": "white",
            "linecolor": "white",
            "ticks": ""
           },
           "bgcolor": "#E5ECF6",
           "radialaxis": {
            "gridcolor": "white",
            "linecolor": "white",
            "ticks": ""
           }
          },
          "scene": {
           "xaxis": {
            "backgroundcolor": "#E5ECF6",
            "gridcolor": "white",
            "gridwidth": 2,
            "linecolor": "white",
            "showbackground": true,
            "ticks": "",
            "zerolinecolor": "white"
           },
           "yaxis": {
            "backgroundcolor": "#E5ECF6",
            "gridcolor": "white",
            "gridwidth": 2,
            "linecolor": "white",
            "showbackground": true,
            "ticks": "",
            "zerolinecolor": "white"
           },
           "zaxis": {
            "backgroundcolor": "#E5ECF6",
            "gridcolor": "white",
            "gridwidth": 2,
            "linecolor": "white",
            "showbackground": true,
            "ticks": "",
            "zerolinecolor": "white"
           }
          },
          "shapedefaults": {
           "line": {
            "color": "#2a3f5f"
           }
          },
          "ternary": {
           "aaxis": {
            "gridcolor": "white",
            "linecolor": "white",
            "ticks": ""
           },
           "baxis": {
            "gridcolor": "white",
            "linecolor": "white",
            "ticks": ""
           },
           "bgcolor": "#E5ECF6",
           "caxis": {
            "gridcolor": "white",
            "linecolor": "white",
            "ticks": ""
           }
          },
          "title": {
           "x": 0.05
          },
          "xaxis": {
           "automargin": true,
           "gridcolor": "white",
           "linecolor": "white",
           "ticks": "",
           "title": {
            "standoff": 15
           },
           "zerolinecolor": "white",
           "zerolinewidth": 2
          },
          "yaxis": {
           "automargin": true,
           "gridcolor": "white",
           "linecolor": "white",
           "ticks": "",
           "title": {
            "standoff": 15
           },
           "zerolinecolor": "white",
           "zerolinewidth": 2
          }
         }
        },
        "title": {
         "text": "Total Casualties by Country due to Terrorism"
        },
        "xaxis": {
         "anchor": "y",
         "domain": [
          0,
          1
         ],
         "title": {
          "text": "Country"
         }
        },
        "yaxis": {
         "anchor": "x",
         "domain": [
          0,
          1
         ],
         "title": {
          "text": "Total Casualties"
         }
        }
       }
      }
     },
     "metadata": {},
     "output_type": "display_data"
    }
   ],
   "source": [
    "\n",
    "\n",
    "# Group the data by 'Country' and calculate the total casualties for each country.\n",
    "country_casualty_counts = df.groupby('Country')['Casualtities'].sum().reset_index()\n",
    "\n",
    "# Sort the countries by total casualties in descending order.\n",
    "country_casualty_counts = country_casualty_counts.sort_values(by='Casualtities', ascending=False)\n",
    "\n",
    "# Create an interactive bar plot using Plotly Express.\n",
    "fig = px.bar(\n",
    "    country_casualty_counts,\n",
    "    x='Country',\n",
    "    y='Casualtities',\n",
    "    title='Total Casualties by Country due to Terrorism',\n",
    "    labels={'Country': 'Country', 'Casualtities': 'Total Casualties'},\n",
    ")\n",
    "\n",
    "# Customize the appearance of the plot, e.g., changing the color, axis labels, etc.\n",
    "\n",
    "# Show the interactive plot.\n",
    "fig.show()\n"
   ]
  },
  {
   "cell_type": "code",
   "execution_count": 26,
   "metadata": {},
   "outputs": [],
   "source": [
    "import dash\n",
    "from dash import dcc, html\n",
    "from dash.dependencies import Input, Output\n",
    "\n",
    "from dash import dash_table"
   ]
  },
  {
   "cell_type": "code",
   "execution_count": 27,
   "metadata": {},
   "outputs": [
    {
     "data": {
      "text/html": [
       "\n",
       "        <iframe\n",
       "            width=\"100%\"\n",
       "            height=\"650\"\n",
       "            src=\"http://127.0.0.1:8050/\"\n",
       "            frameborder=\"0\"\n",
       "            allowfullscreen\n",
       "            \n",
       "        ></iframe>\n",
       "        "
      ],
      "text/plain": [
       "<IPython.lib.display.IFrame at 0x2520938ff70>"
      ]
     },
     "metadata": {},
     "output_type": "display_data"
    }
   ],
   "source": [
    "# Group the data by 'Group' and calculate the total casualties for each group.\n",
    "group_casualty_counts = df.groupby('Group')['Casualtities'].sum().reset_index()\n",
    "\n",
    "# Sort the groups by total casualties in descending order.\n",
    "group_casualty_counts = group_casualty_counts.sort_values(by='Casualtities', ascending=False)\n",
    "\n",
    "# Create an interactive bar plot for the most destructive groups.\n",
    "fig1 = px.bar(\n",
    "    group_casualty_counts.nlargest(10, 'Casualtities'),\n",
    "    x='Casualtities',\n",
    "    y='Group',\n",
    "    title='Top 10 Most Destructive Terrorist Groups by Total Casualties',\n",
    "    labels={'Group': 'Terrorist Group', 'Casualtities': 'Total Casualties'},\n",
    ")\n",
    "\n",
    "# Group the data by both 'Country' and 'Group' to identify dominant groups in each country.\n",
    "country_group_casualties = df.groupby(['Country', 'Group'])['Casualtities'].sum().reset_index()\n",
    "country_group_casualties = country_group_casualties.sort_values(by='Casualtities', ascending=False)\n",
    "dominant_groups_by_country = country_group_casualties.drop_duplicates(subset='Country')\n",
    "\n",
    "# Initialize the Dash application.\n",
    "app = dash.Dash(__name__)\n",
    "\n",
    "# Create a layout for the interactive table using dash_table.DataTable.\n",
    "app.layout = html.Div([\n",
    "    dcc.Graph(figure=fig1),  # Add the bar chart\n",
    "    dash_table.DataTable(\n",
    "        id='table',\n",
    "        columns=[{'name': i, 'id': i} for i in dominant_groups_by_country.columns],\n",
    "        data=dominant_groups_by_country.to_dict('records'),\n",
    "    ),  # Add the interactive table\n",
    "])\n",
    "\n",
    "# Run the Dash app.\n",
    "if __name__ == '__main__':\n",
    "    app.run_server(debug=True)\n",
    "\n",
    "\n",
    "\n"
   ]
  },
  {
   "cell_type": "code",
   "execution_count": 28,
   "metadata": {},
   "outputs": [
    {
     "name": "stdout",
     "output_type": "stream",
     "text": [
      "Top Countries with the Most Incidents of Terrorists Being Killed:\n",
      "         Country        Killed\n",
      "84          Iraq  80310.601471\n",
      "0    Afghanistan  40024.433024\n",
      "134     Pakistan  24409.836919\n",
      "130      Nigeria  23384.250523\n",
      "80         India  19870.092860\n",
      "175        Syria  15854.341237\n",
      "35      Colombia  15799.475136\n",
      "167    Sri Lanka  15652.653345\n",
      "52   El Salvador  15215.425408\n",
      "139         Peru  14307.774262\n"
     ]
    }
   ],
   "source": [
    "# Group the data by 'Country' and calculate the total number of terrorists killed in each country.\n",
    "country_killed_counts = df.groupby('Country')['Killed'].sum().reset_index()\n",
    "\n",
    "# Sort the countries by the sum of terrorists killed in descending order.\n",
    "country_killed_counts = country_killed_counts.sort_values(by='Killed', ascending=False)\n",
    "\n",
    "# Display the top countries with the most incidents of terrorists being killed.\n",
    "top_countries = country_killed_counts.head(10)\n",
    "print(\"Top Countries with the Most Incidents of Terrorists Being Killed:\")\n",
    "print(top_countries)"
   ]
  },
  {
   "cell_type": "code",
   "execution_count": 29,
   "metadata": {},
   "outputs": [
    {
     "data": {
      "text/plain": [
       "([0, 1, 2, 3, 4, 5, 6, 7, 8, 9, 10, 11],\n",
       " [Text(0, 0, 'Explosives'),\n",
       "  Text(1, 0, 'Firearms'),\n",
       "  Text(2, 0, 'Unknown'),\n",
       "  Text(3, 0, 'Incendiary'),\n",
       "  Text(4, 0, 'Melee'),\n",
       "  Text(5, 0, 'Chemical'),\n",
       "  Text(6, 0, 'Sabotage Equipment'),\n",
       "  Text(7, 0, 'Vehicle (not to include vehicle-borne explosives, i.e., car or truck bombs)'),\n",
       "  Text(8, 0, 'Other'),\n",
       "  Text(9, 0, 'Biological'),\n",
       "  Text(10, 0, 'Fake Weapons'),\n",
       "  Text(11, 0, 'Radiological')])"
      ]
     },
     "execution_count": 29,
     "metadata": {},
     "output_type": "execute_result"
    },
    {
     "data": {
      "image/png": "[encoded data removed]",
      "text/plain": [
       "<Figure size 1200x600 with 1 Axes>"
      ]
     },
     "metadata": {},
     "output_type": "display_data"
    },
    {
     "data": {
      "image/png": "[encoded data removed]",
      "text/plain": [
       "<Figure size 1200x600 with 1 Axes>"
      ]
     },
     "metadata": {},
     "output_type": "display_data"
    },
    {
     "data": {
      "image/png": "[encoded data removed]",
      "text/plain": [
       "<Figure size 1200x600 with 1 Axes>"
      ]
     },
     "metadata": {},
     "output_type": "display_data"
    }
   ],
   "source": [
    "# Analyze 'AttackType'\n",
    "attack_type_counts = df['AttackType'].value_counts()\n",
    "plt.figure(figsize=(12, 6))\n",
    "plt.bar(attack_type_counts.index, attack_type_counts.values)\n",
    "plt.title('Most Common Attack Types')\n",
    "plt.xlabel('Attack Type')\n",
    "plt.ylabel('Number of Incidents')\n",
    "plt.xticks(rotation=90)\n",
    "\n",
    "# Analyze 'Target_type'\n",
    "target_type_counts = df['Target_type'].value_counts()\n",
    "plt.figure(figsize=(12, 6))\n",
    "plt.bar(target_type_counts.index, target_type_counts.values)\n",
    "plt.title('Most Common Target Types')\n",
    "plt.xlabel('Target Type')\n",
    "plt.ylabel('Number of Incidents')\n",
    "plt.xticks(rotation=90)\n",
    "\n",
    "# Analyze 'Weapon_type'\n",
    "weapon_type_counts = df['Weapon_type'].value_counts()\n",
    "plt.figure(figsize=(12, 6))\n",
    "plt.bar(weapon_type_counts.index, weapon_type_counts.values)\n",
    "plt.title('Most Common Weapon Types')\n",
    "plt.xlabel('Weapon Type')\n",
    "plt.ylabel('Number of Incidents')\n",
    "plt.xticks(rotation=90)\n"
   ]
  },
  {
   "cell_type": "code",
   "execution_count": 30,
   "metadata": {},
   "outputs": [
    {
     "name": "stdout",
     "output_type": "stream",
     "text": [
      "Average number of people killed per attack: 2.40\n",
      "Average number of people wounded per attack: 3.17\n",
      "Most Deadly Types of Attacks:\n",
      "                                            Killed        Wounded  \\\n",
      "AttackType                                                          \n",
      "Bombing/Explosion                    166414.307552  389356.692468   \n",
      "Armed Assault                        165001.855160   90655.420795   \n",
      "Unknown                               33913.121990   18177.266610   \n",
      "Hostage Taking (Kidnapping)           30308.237436   16018.250087   \n",
      "Assassination                         24945.587469   17890.928917   \n",
      "Hijacking                              3743.058312   17205.494200   \n",
      "Unarmed Assault                         891.669546   14294.196372   \n",
      "Facility/Infrastructure Attack         4993.211631    5977.559868   \n",
      "Hostage Taking (Barricade Incident)    4693.661982    4425.600717   \n",
      "\n",
      "                                     Total_Casualties  \n",
      "AttackType                                             \n",
      "Bombing/Explosion                       555771.000019  \n",
      "Armed Assault                           255657.275956  \n",
      "Unknown                                  52090.388600  \n",
      "Hostage Taking (Kidnapping)              46326.487523  \n",
      "Assassination                            42836.516386  \n",
      "Hijacking                                20948.552512  \n",
      "Unarmed Assault                          15185.865918  \n",
      "Facility/Infrastructure Attack           10970.771498  \n",
      "Hostage Taking (Barricade Incident)       9119.262699  \n"
     ]
    }
   ],
   "source": [
    "# Calculate the average number of people killed and wounded per attack\n",
    "average_killed_per_attack = df['Killed'].mean()\n",
    "average_wounded_per_attack = df['Wounded'].mean()\n",
    "\n",
    "print(f\"Average number of people killed per attack: {average_killed_per_attack:.2f}\")\n",
    "print(f\"Average number of people wounded per attack: {average_wounded_per_attack:.2f}\")\n",
    "\n",
    "# Analyze which types of attacks are the most deadly\n",
    "deadly_attack_types = df.groupby('AttackType')[['Killed', 'Wounded']].sum()\n",
    "deadly_attack_types['Total_Casualties'] = deadly_attack_types['Killed'] + deadly_attack_types['Wounded']\n",
    "deadly_attack_types = deadly_attack_types.sort_values(by='Total_Casualties', ascending=False)\n",
    "\n",
    "print(\"Most Deadly Types of Attacks:\")\n",
    "print(deadly_attack_types)"
   ]
  },
  {
   "cell_type": "code",
   "execution_count": 31,
   "metadata": {},
   "outputs": [
    {
     "name": "stdout",
     "output_type": "stream",
     "text": [
      "Overall Success Rate of Terrorist Attacks: 88.94%\n",
      "Success Rate by Attack Type:\n",
      "AttackType\n",
      "Hostage Taking (Barricade Incident)    0.991878\n",
      "Hostage Taking (Kidnapping)            0.977410\n",
      "Armed Assault                          0.945256\n",
      "Facility/Infrastructure Attack         0.944412\n",
      "Hijacking                              0.880620\n",
      "Bombing/Explosion                      0.878382\n",
      "Unarmed Assault                        0.865347\n",
      "Unknown                                0.826009\n",
      "Assassination                          0.756767\n",
      "Name: success, dtype: float64\n"
     ]
    }
   ],
   "source": [
    "# Calculate the overall success rate of terrorist attacks\n",
    "overall_success_rate = df['success'].mean()\n",
    "print(f\"Overall Success Rate of Terrorist Attacks: {overall_success_rate:.2%}\")\n",
    "\n",
    "# Analyze success rates by different types of attacks\n",
    "success_by_attack_type = df.groupby('AttackType')['success'].mean()\n",
    "success_by_attack_type = success_by_attack_type.sort_values(ascending=False)\n",
    "\n",
    "print(\"Success Rate by Attack Type:\")\n",
    "print(success_by_attack_type)"
   ]
  },
  {
   "cell_type": "code",
   "execution_count": 32,
   "metadata": {},
   "outputs": [
    {
     "data": {
      "image/png": "[encoded data removed]",
      "text/plain": [
       "<Figure size 1000x500 with 1 Axes>"
      ]
     },
     "metadata": {},
     "output_type": "display_data"
    },
    {
     "data": {
      "image/png": "[encoded data removed]",
      "text/plain": [
       "<Figure size 1200x600 with 1 Axes>"
      ]
     },
     "metadata": {},
     "output_type": "display_data"
    }
   ],
   "source": [
    "# Calculate the overall success rate of terrorist attacks\n",
    "overall_success_rate = df['success'].mean()\n",
    "\n",
    "# Analyze success rates by different types of attacks\n",
    "success_by_attack_type = df.groupby('AttackType')['success'].mean()\n",
    "success_by_attack_type = success_by_attack_type.sort_values(ascending=False)\n",
    "\n",
    "# Create a bar chart for overall success rate\n",
    "plt.figure(figsize=(10, 5))\n",
    "plt.bar(['Overall'], [overall_success_rate], label='Overall Success Rate', color='lightblue')\n",
    "\n",
    "# Create a bar chart for success rates by attack type\n",
    "plt.figure(figsize=(12, 6))\n",
    "plt.bar(success_by_attack_type.index, success_by_attack_type.values, color='skyblue')\n",
    "plt.title('Success Rate by Attack Type')\n",
    "plt.xlabel('Attack Type')\n",
    "plt.ylabel('Success Rate')\n",
    "plt.xticks(rotation=90)\n",
    "\n",
    "plt.show()"
   ]
  },
  {
   "cell_type": "code",
   "execution_count": 33,
   "metadata": {},
   "outputs": [
    {
     "name": "stdout",
     "output_type": "stream",
     "text": [
      "Top Common Motives Behind Terrorist Attacks:\n",
      "Unknown                                                                                                                                                                                                                                                 145528\n",
      "The specific motive for the attack is unknown.                                                                                                                                                                                                           14110\n",
      "The specific motive is unknown; however, sources noted that the attack may have been part of a larger trend of violence related to Bangladesh's nationwide hartal, which began on January 6, 2015.                                                         297\n",
      "The specific motive for the attack is unknown..                                                                                                                                                                                                            148\n",
      "The specific motive for the attack is unknown or was not reported.                                                                                                                                                                                         139\n",
      "The specific motive for the attack is unknown                                                                                                                                                                                                               72\n",
      "Part of a campaign by Islamic extremists to destabilize Algeria by weakening security forces protecting the 'apostate' Algerian government.                                                                                                                 66\n",
      "The specific motive for the attack was political.                                                                                                                                                                                                           57\n",
      "The specific motive is unknown; however, sources suspected that the attack, which targeted members of the Sunni community, may have been part of a larger trend of sectarian violence between Iraq's minority Sunni and majority Shiite communities.        52\n",
      "The specific motive is unknown; however, sources noted that parliamentary elections were scheduled for January 5, 2014. Sources also noted that the opposition advocated for citizens to \"resist\" the elections.                                            50\n",
      "Name: Motive, dtype: int64\n"
     ]
    }
   ],
   "source": [
    "# Filter out rows where 'Motive' is not missing (not NaN)\n",
    "motives_data = df[df['Motive'].notna()]\n",
    "\n",
    "# Analyze the common motives behind terrorist attacks\n",
    "common_motives = motives_data['Motive'].value_counts()\n",
    "\n",
    "# Display the top common motives\n",
    "print(\"Top Common Motives Behind Terrorist Attacks:\")\n",
    "print(common_motives.head(10))"
   ]
  }
 ],
 "metadata": {
  "kernelspec": {
   "display_name": "base",
   "language": "python",
   "name": "python3"
  },
  "language_info": {
   "codemirror_mode": {
    "name": "ipython",
    "version": 3
   },
   "file_extension": ".py",
   "mimetype": "text/x-python",
   "name": "python",
   "nbconvert_exporter": "python",
   "pygments_lexer": "ipython3",
   "version": "3.10.9"
  }
 },
 "nbformat": 4,
 "nbformat_minor": 2
}
